{
 "cells": [
  {
   "cell_type": "markdown",
   "metadata": {},
   "source": [
    "# Content:\n",
    "1. [Newton Raphson: 1D](#1.-Newton-Raphson:-1D)\n",
    "2. [Newton Raphson: nD](#2.-Newton-Raphson:-nD)\n",
    "3. ['n' equations with 'm' unknowns: use of pseudoinverse](#3.-'n'-equations-with-'m'-unknowns:-use-of-pseudoinverse)"
   ]
  },
  {
   "cell_type": "markdown",
   "metadata": {},
   "source": [
    "## 1. Newton Raphson: 1D "
   ]
  },
  {
   "cell_type": "markdown",
   "metadata": {},
   "source": [
    "![board%20work%20-47.jpg](boardwork/board%20work%20-47.jpg)\n",
    "![board%20work%20-48.jpg](boardwork/board%20work%20-48.jpg)\n",
    "![board%20work%20-49.jpg](boardwork/board%20work%20-49.jpg)\n",
    "![board%20work%20-50.jpg](boardwork/board%20work%20-50.jpg)"
   ]
  },
  {
   "cell_type": "code",
   "execution_count": 1,
   "metadata": {},
   "outputs": [],
   "source": [
    "import numpy as np\n",
    "\n",
    "def NewtonRaphson(x0, f, df, maxiter, maxeval, xthresh, iprint):\n",
    "    \n",
    "    iiter=0\n",
    "    ieval=0\n",
    "    \n",
    "    dx = 999.0\n",
    "    \n",
    "    if iprint == 1:\n",
    "        print('#iter feval   xn             f(xn)          df(xn)         xn+1           dx')\n",
    "    \n",
    "    while dx > xthresh:\n",
    "        \n",
    "        fn=f(x0)\n",
    "        dfn=df(x0)\n",
    "\n",
    "        x1 = x0 - fn / dfn\n",
    "        \n",
    "        ieval=ieval+2\n",
    "        \n",
    "        dx=abs(x1-x0)\n",
    "        \n",
    "        print('{:5d}{:5d}{:15.6e}{:17.8e}{:17.8e}{:17.8e}{:17.8e}'.format(iiter, ieval, x0, fn, dfn, x1, dx))\n",
    "        \n",
    "        iiter=iiter+1\n",
    "        \n",
    "        if iiter >= maxiter:\n",
    "            print('Exiting Newton-Raphson, maximum iterations reached')\n",
    "            break\n",
    "            \n",
    "        if ieval >= maxeval:\n",
    "            print('Exiting Newton-Raphson, maximum function evaluations reached')\n",
    "            break\n",
    "            \n",
    "        x0 = x1\n",
    "        \n",
    "    print('Exiting Newton-Raphson, convergence reached')  \n",
    "    return x1\n",
    "\n"
   ]
  },
  {
   "cell_type": "code",
   "execution_count": 2,
   "metadata": {},
   "outputs": [
    {
     "name": "stdout",
     "output_type": "stream",
     "text": [
      "#iter feval   xn             f(xn)          df(xn)         xn+1           dx\n",
      "    0    2   2.000000e+00  -4.64664717e-01   6.46647168e-02   9.18575353e+00   7.18575353e+00\n",
      "    1    4   9.185754e+00   8.37253195e-01   1.99897511e-01   4.99734122e+00   4.18841231e+00\n",
      "    2    6   4.997341e+00   6.22412954e-03   1.93244114e-01   4.96513258e+00   3.22086370e-02\n",
      "    3    8   4.965133e+00   3.54219278e-06   1.93022974e-01   4.96511423e+00   1.83511460e-05\n",
      "Exiting Newton-Raphson, convergence reached\n",
      "The solution is:  4.96511423175\n"
     ]
    }
   ],
   "source": [
    "def f(x):\n",
    "    val=np.exp(-x)+x/5.0-1.0\n",
    "    return val\n",
    "\n",
    "def df(x):\n",
    "    val=-np.exp(-x)+1.0/5.0\n",
    "    return val\n",
    "\n",
    "x0=2.0\n",
    "iprint=1\n",
    "maxiter=100\n",
    "maxeval=100\n",
    "xthresh=0.0001\n",
    "x=NewtonRaphson(x0,f,df,maxiter,maxeval,xthresh,iprint)\n",
    "print('The solution is: ',x)"
   ]
  },
  {
   "cell_type": "code",
   "execution_count": 11,
   "metadata": {},
   "outputs": [
    {
     "name": "stdout",
     "output_type": "stream",
     "text": [
      "#iter feval   xn             f(xn)          df(xn)         xn+1           dx\n",
      "    0    2   2.000000e+00  -1.00000000e+00   4.00000000e+00   2.25000000e+00   2.50000000e-01\n",
      "    1    4   2.250000e+00   6.25000000e-02   4.50000000e+00   2.23611111e+00   1.38888889e-02\n",
      "    2    6   2.236111e+00   1.92901235e-04   4.47222222e+00   2.23606798e+00   4.31331953e-05\n",
      "Exiting Newton-Raphson, convergence reached\n",
      "Newton-Raphson solution is:  2.236067977915804\n",
      "Exact solution is:  2.2360679775\n"
     ]
    }
   ],
   "source": [
    "def f(x):\n",
    "    val=x**2-5.0\n",
    "    return val\n",
    "\n",
    "def df(x):\n",
    "    val=2*x\n",
    "    return val\n",
    "\n",
    "x0=2.0\n",
    "iprint=1\n",
    "maxiter=100\n",
    "maxeval=100\n",
    "xthresh=0.0001\n",
    "x=NewtonRaphson(x0,f,df,maxiter,maxeval,xthresh,iprint)\n",
    "print('Newton-Raphson solution is: ',x)\n",
    "print('Exact solution is: ',np.sqrt(5.0))"
   ]
  },
  {
   "cell_type": "markdown",
   "metadata": {},
   "source": [
    "![board%20work%20-51.jpg](boardwork/board%20work%20-51.jpg)\n",
    "![board%20work%20-52.jpg](boardwork/board%20work%20-52.jpg)\n",
    "![board%20work%20-53.jpg](boardwork/board%20work%20-53.jpg)\n",
    "![board%20work%20-54.jpg](boardwork/board%20work%20-54.jpg)\n",
    "![board%20work%20-55.jpg](boardwork/board%20work%20-55.jpg)"
   ]
  },
  {
   "cell_type": "markdown",
   "metadata": {},
   "source": [
    "## 2. Newton Raphson: nD "
   ]
  },
  {
   "cell_type": "markdown",
   "metadata": {},
   "source": [
    "![board%20work%20-56.jpg](boardwork/board%20work%20-56.jpg)\n",
    "![board%20work%20-57.jpg](boardwork/board%20work%20-57.jpg)"
   ]
  },
  {
   "cell_type": "code",
   "execution_count": 6,
   "metadata": {},
   "outputs": [],
   "source": [
    "import numpy as np\n",
    "\n",
    "def NewtonRaphson_nD(X0,fnF,fnJ,maxiter,maxeval,xthresh,iprint):\n",
    "    \n",
    "    iiter=0\n",
    "    ieval=0\n",
    "    \n",
    "    N=len(X0)\n",
    "    \n",
    "    X1=np.zeros(N)\n",
    "    \n",
    "    F=np.zeros(N,float)\n",
    "    J=np.zeros([N,N],float)\n",
    "    Jinv=np.zeros([N,N],float)\n",
    " \n",
    "    dx=999.0\n",
    "    \n",
    "    while dx > xthresh:\n",
    "                \n",
    "        F=fnF(X0)\n",
    "        ieval=ieval+N\n",
    "        \n",
    "        J=fnJ(X0)\n",
    "        ieval=ieval+N**2\n",
    "                \n",
    "        Jinv = np.linalg.inv(J)\n",
    "\n",
    "        X1 = X0 - np.dot(Jinv,F)\n",
    "        \n",
    "        # converge the maximum component in X0-X1\n",
    "        dx=max(abs(X0-X1))\n",
    "        \n",
    "        if iprint == 1:\n",
    "            print('{:6d}{:6d}{:17.8e} x='.format(iiter, ieval, dx))\n",
    "            for iX in X0:\n",
    "                print('{:17.8e}'.format(iX))\n",
    "        \n",
    "        if iiter >= maxiter:\n",
    "            print('Exiting fixed-point iteration, maximum function evaluations reached')\n",
    "            break\n",
    "            \n",
    "        iiter=iiter+1\n",
    "        \n",
    "        if iiter >= maxiter:\n",
    "            print('Exiting Newton-Raphson, maximum iterations reached')\n",
    "            break\n",
    "            \n",
    "        if ieval >= maxeval:\n",
    "            print('Exiting Newton-Raphson, maximum function evaluations reached')\n",
    "            break\n",
    "        \n",
    "        X0 = X1\n",
    "        \n",
    "    print('Exiting Newton-Raphson, convergence reached')  \n",
    "    return X1"
   ]
  },
  {
   "cell_type": "code",
   "execution_count": 7,
   "metadata": {},
   "outputs": [],
   "source": [
    "import numpy as np\n",
    "\n",
    "def fnF(X):\n",
    "    x1=X[0]\n",
    "    x2=X[1]\n",
    "    \n",
    "    N=len(X)\n",
    "    \n",
    "    Fvec=np.zeros(N)\n",
    "    \n",
    "    Fvec[0] = x1**2 + x2**2 - 1.0\n",
    "    Fvec[1] = np.sin(np.pi*x1/2.0) + x2**3\n",
    "    \n",
    "    return Fvec\n",
    "\n",
    "def fnJ(X):\n",
    "    x1=X[0]\n",
    "    x2=X[1]\n",
    "    \n",
    "    N=len(X)\n",
    "    \n",
    "    Jmat=np.zeros([N,N])\n",
    "    \n",
    "    Jmat[0][0] = 2*x1\n",
    "    Jmat[0][1] = 2*x2\n",
    "    Jmat[1][0] = (np.pi/2.0) * np.cos(np.pi*x1/2.0)\n",
    "    Jmat[1][1] = 3*x2**2\n",
    "    \n",
    "    return Jmat"
   ]
  },
  {
   "cell_type": "code",
   "execution_count": 8,
   "metadata": {},
   "outputs": [
    {
     "name": "stdout",
     "output_type": "stream",
     "text": [
      "     0     6   6.66666667e-01 x=\n",
      "   1.00000000e+00\n",
      "   1.00000000e+00\n",
      "     1    12   2.41437788e+00 x=\n",
      "   1.16666667e+00\n",
      "   3.33333333e-01\n",
      "     2    18   1.16257301e+00 x=\n",
      "   1.65410797e+00\n",
      "  -2.08104454e+00\n",
      "     3    24   4.55038509e-01 x=\n",
      "   4.91534952e-01\n",
      "  -1.54747187e+00\n",
      "     4    30   2.09196236e-01 x=\n",
      "   2.59651929e-01\n",
      "  -1.09243336e+00\n",
      "     5    36   4.23358363e-02 x=\n",
      "   4.68848166e-01\n",
      "  -9.23330971e-01\n",
      "     6    42   1.59901543e-03 x=\n",
      "   4.75056245e-01\n",
      "  -8.80995135e-01\n",
      "     7    48   2.71040647e-06 x=\n",
      "   4.76094634e-01\n",
      "  -8.79396119e-01\n",
      "     8    54   7.00683955e-12 x=\n",
      "   4.76095823e-01\n",
      "  -8.79393409e-01\n",
      "Exiting Newton-Raphson, convergence reached\n",
      "The solution is:  [ 0.47609582 -0.87939341]\n"
     ]
    }
   ],
   "source": [
    "X0=np.array([1.0,1.0])\n",
    "maxiter=100\n",
    "maxeval=100\n",
    "xthresh=1e-6  # 10^-6\n",
    "iprint=1\n",
    "X=NewtonRaphson_nD(X0,fnF,fnJ,maxiter,maxeval,xthresh,iprint)\n",
    "print('The solution is: ',X)"
   ]
  },
  {
   "cell_type": "markdown",
   "metadata": {},
   "source": [
    "### Let's check our answer with a graphical solution"
   ]
  },
  {
   "cell_type": "code",
   "execution_count": null,
   "metadata": {},
   "outputs": [],
   "source": [
    "import numpy as np\n",
    "import matplotlib.pyplot as plt\n",
    "\n",
    "x1 = np.linspace(-1.0, 1.0, 100)\n",
    "x2 = np.linspace(-1.0, 1.0, 100)\n",
    "\n",
    "X1, X2 = np.meshgrid(x1,x2)\n",
    "\n",
    "F1 = X1**2 + X2**2 - 1.0\n",
    "\n",
    "F2 = np.sin(np.pi*X1/2.0) + X2**3\n",
    "\n",
    "#=== make it a square plot\n",
    "fig = plt.figure()                        # comment if square plot is not needed\n",
    "ax = fig.add_subplot(111)                 # comment if square plot is not needed\n",
    "\n",
    "plt.contour(X1,X2,F1,[0])  # f1(X)\n",
    "plt.contour(X1,X2,F2,[0])  # f2(X)\n",
    "\n",
    "ax.set_aspect('equal', adjustable='box')  # comment if square plot is not needed\n",
    "\n",
    "#=== labels, titles, grids\n",
    "plt.xlabel(\"x1\")\n",
    "plt.ylabel(\"x2\")\n",
    "\n",
    "plt.xlim(-1.5, 1.5)\n",
    "plt.ylim(-1.5, 1.5)\n",
    "\n",
    "plt.grid()\n",
    "\n",
    "#=== display\n",
    "plt.show()"
   ]
  },
  {
   "cell_type": "markdown",
   "metadata": {},
   "source": [
    "There are two solutions. One near (0.5, -0.8) and another near (-0.5,0.8)."
   ]
  },
  {
   "cell_type": "markdown",
   "metadata": {},
   "source": [
    "## 3. 'n' equations with 'm' unknowns: use of pseudoinverse"
   ]
  },
  {
   "cell_type": "markdown",
   "metadata": {},
   "source": [
    "![board%20work%20-58.jpg](boardwork/board%20work%20-58.jpg)"
   ]
  }
 ],
 "metadata": {
  "kernelspec": {
   "display_name": "Python 3",
   "language": "python",
   "name": "python3"
  },
  "language_info": {
   "codemirror_mode": {
    "name": "ipython",
    "version": 3
   },
   "file_extension": ".py",
   "mimetype": "text/x-python",
   "name": "python",
   "nbconvert_exporter": "python",
   "pygments_lexer": "ipython3",
   "version": "3.6.10"
  }
 },
 "nbformat": 4,
 "nbformat_minor": 2
}
