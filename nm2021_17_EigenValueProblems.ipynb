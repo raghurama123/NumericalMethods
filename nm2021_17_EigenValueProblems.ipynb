{
 "cells": [
  {
   "cell_type": "markdown",
   "id": "955846c9",
   "metadata": {},
   "source": [
    "# Content:\n",
    "1. [Numpy eigen](#numpy)\n",
    "2. [Power method](#power)\n",
    "3. [3x3 example](#3x3)"
   ]
  },
  {
   "cell_type": "markdown",
   "id": "940d9ff1",
   "metadata": {},
   "source": [
    "## 1. <a name=\"eigen\">Numpy eigen</a>"
   ]
  },
  {
   "cell_type": "code",
   "execution_count": 1,
   "id": "126815a0",
   "metadata": {},
   "outputs": [],
   "source": [
    "import numpy as np"
   ]
  },
  {
   "cell_type": "code",
   "execution_count": 2,
   "id": "871b154b",
   "metadata": {},
   "outputs": [
    {
     "name": "stdout",
     "output_type": "stream",
     "text": [
      "[[1 2]\n",
      " [2 4]]\n"
     ]
    }
   ],
   "source": [
    "A=np.array([[1,2],[2,4]])\n",
    "print(A)"
   ]
  },
  {
   "cell_type": "code",
   "execution_count": 3,
   "id": "a4932a49",
   "metadata": {},
   "outputs": [
    {
     "name": "stdout",
     "output_type": "stream",
     "text": [
      "Eigenvalues\n",
      "[0. 5.]\n",
      "\n",
      "\n",
      "Eigenvectors\n",
      "[[-0.89442719 -0.4472136 ]\n",
      " [ 0.4472136  -0.89442719]]\n"
     ]
    }
   ],
   "source": [
    "E,V=np.linalg.eig(A)\n",
    "print('Eigenvalues')\n",
    "print(E)\n",
    "print('\\n')\n",
    "print('Eigenvectors')\n",
    "print(V)"
   ]
  },
  {
   "cell_type": "markdown",
   "id": "409e5e83",
   "metadata": {},
   "source": [
    "## 2. <a name=\"power\">Power method</a>"
   ]
  },
  {
   "cell_type": "code",
   "execution_count": 4,
   "id": "cae3d3f7",
   "metadata": {},
   "outputs": [],
   "source": [
    "import numpy as np\n",
    "\n",
    "def power_method(A,max_iter):\n",
    "    \n",
    "    #No. of rows\n",
    "    N=A.shape[1] \n",
    "    \n",
    "    x=np.random.rand(N)\n",
    "    print(x)\n",
    "    \n",
    "    for i_iter in range(max_iter):\n",
    "        \n",
    "        x=np.dot(A,x)\n",
    "        \n",
    "        x_norm=np.linalg.norm(x)\n",
    "        \n",
    "        x=x/x_norm\n",
    "        print(x)\n",
    "    \n",
    "    return(x)"
   ]
  },
  {
   "cell_type": "code",
   "execution_count": 5,
   "id": "192a2a70",
   "metadata": {},
   "outputs": [
    {
     "name": "stdout",
     "output_type": "stream",
     "text": [
      "[0.52777337 0.70860405]\n",
      "[0.4472136  0.89442719]\n",
      "[0.4472136  0.89442719]\n",
      "[0.4472136  0.89442719]\n",
      "[0.4472136  0.89442719]\n",
      "[0.4472136  0.89442719]\n",
      "[0.4472136  0.89442719]\n",
      "[0.4472136  0.89442719]\n",
      "[0.4472136  0.89442719]\n",
      "[0.4472136  0.89442719]\n",
      "[0.4472136  0.89442719]\n"
     ]
    }
   ],
   "source": [
    "x=power_method(A,10)"
   ]
  },
  {
   "cell_type": "code",
   "execution_count": 6,
   "id": "b81be1b9",
   "metadata": {},
   "outputs": [
    {
     "name": "stdout",
     "output_type": "stream",
     "text": [
      "5.000000000000001\n"
     ]
    }
   ],
   "source": [
    "#largest eigenvalue\n",
    "E=np.dot(x,np.dot(A,x))\n",
    "print(E)"
   ]
  },
  {
   "cell_type": "markdown",
   "id": "8e8ca94b",
   "metadata": {},
   "source": [
    "## 3. <a name=\"3x3\">3x3 example</a>"
   ]
  },
  {
   "cell_type": "code",
   "execution_count": 7,
   "id": "a29bb76d",
   "metadata": {},
   "outputs": [
    {
     "name": "stdout",
     "output_type": "stream",
     "text": [
      "[[1 2 3]\n",
      " [2 4 5]\n",
      " [3 5 6]]\n"
     ]
    }
   ],
   "source": [
    "A=np.array([[1,2,3],[2,4,5],[3,5,6]])\n",
    "print(A)"
   ]
  },
  {
   "cell_type": "code",
   "execution_count": 8,
   "id": "ae57f6bf",
   "metadata": {},
   "outputs": [
    {
     "name": "stdout",
     "output_type": "stream",
     "text": [
      "Eigenvalues\n",
      "[11.34481428 -0.51572947  0.17091519]\n",
      "\n",
      "\n",
      "Eigenvectors\n",
      "[[-0.32798528 -0.73697623  0.59100905]\n",
      " [-0.59100905 -0.32798528 -0.73697623]\n",
      " [-0.73697623  0.59100905  0.32798528]]\n"
     ]
    }
   ],
   "source": [
    "E,V=np.linalg.eig(A)\n",
    "print('Eigenvalues')\n",
    "print(E)\n",
    "print('\\n')\n",
    "print('Eigenvectors')\n",
    "print(V)"
   ]
  },
  {
   "cell_type": "code",
   "execution_count": 9,
   "id": "dc108a50",
   "metadata": {},
   "outputs": [
    {
     "name": "stdout",
     "output_type": "stream",
     "text": [
      "[0.06787062 0.45206492 0.6573161 ]\n",
      "[0.33530659 0.59574693 0.72983223]\n",
      "[0.3275975  0.59085913 0.73726885]\n",
      "[0.32800209 0.59101687 0.73696247]\n",
      "[0.3279845  0.59100871 0.73697685]\n",
      "[0.32798531 0.59100906 0.7369762 ]\n",
      "[0.32798528 0.59100905 0.73697623]\n",
      "[0.32798528 0.59100905 0.73697623]\n",
      "[0.32798528 0.59100905 0.73697623]\n",
      "[0.32798528 0.59100905 0.73697623]\n",
      "[0.32798528 0.59100905 0.73697623]\n"
     ]
    }
   ],
   "source": [
    "x=power_method(A,10)"
   ]
  },
  {
   "cell_type": "code",
   "execution_count": 10,
   "id": "66b46f1b",
   "metadata": {},
   "outputs": [
    {
     "name": "stdout",
     "output_type": "stream",
     "text": [
      "11.344814282762082\n"
     ]
    }
   ],
   "source": [
    "#largest eigenvalue\n",
    "E=np.dot(x,np.dot(A,x))\n",
    "print(E)"
   ]
  },
  {
   "cell_type": "code",
   "execution_count": null,
   "id": "dd3f3a86",
   "metadata": {},
   "outputs": [],
   "source": []
  }
 ],
 "metadata": {
  "kernelspec": {
   "display_name": "Python 3",
   "language": "python",
   "name": "python3"
  },
  "language_info": {
   "codemirror_mode": {
    "name": "ipython",
    "version": 3
   },
   "file_extension": ".py",
   "mimetype": "text/x-python",
   "name": "python",
   "nbconvert_exporter": "python",
   "pygments_lexer": "ipython3",
   "version": "3.9.4"
  }
 },
 "nbformat": 4,
 "nbformat_minor": 5
}
