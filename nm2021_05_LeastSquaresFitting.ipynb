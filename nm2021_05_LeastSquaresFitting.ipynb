{
 "cells": [
  {
   "cell_type": "markdown",
   "metadata": {},
   "source": [
    "# Content:\n",
    "1. [Data modeling](#1.-Data-modeling)\n",
    "2. [Matrix inverse](#2.-Matrix-inverse)\n",
    "3. [Vandermonde matrix](#3.-Vandermonde-matrix)\n",
    "4. [Polynomial fitting](#4.-Polynomial-fitting)"
   ]
  },
  {
   "cell_type": "markdown",
   "metadata": {},
   "source": [
    "## 1. Data modeling"
   ]
  },
  {
   "cell_type": "markdown",
   "metadata": {},
   "source": [
    "![board%20work%20-19.jpg](boardwork/board%20work%20-19.jpg)\n",
    "![board%20work%20-20.jpg](boardwork/board%20work%20-20.jpg)\n",
    "![board%20work%20-21.jpg](boardwork/board%20work%20-21.jpg)\n",
    "![board%20work%20-22.jpg](boardwork/board%20work%20-22.jpg)\n",
    "![board%20work%20-23.jpg](boardwork/board%20work%20-23.jpg)\n",
    "![board%20work%20-24.jpg](boardwork/board%20work%20-24.jpg)"
   ]
  },
  {
   "cell_type": "markdown",
   "metadata": {},
   "source": [
    "## 2. Matrix inverse"
   ]
  },
  {
   "cell_type": "markdown",
   "metadata": {},
   "source": [
    "Let's use Numpy's implementation to determine the matrix inverse. You can check if the inverse has come out as expected by multiplying with the given matrix. "
   ]
  },
  {
   "cell_type": "code",
   "execution_count": 1,
   "metadata": {},
   "outputs": [
    {
     "name": "stdout",
     "output_type": "stream",
     "text": [
      "[[1 2]\n",
      " [3 4]] \n",
      "\n",
      "[[-2.   1. ]\n",
      " [ 1.5 -0.5]] \n",
      "\n",
      "[[  1.00000000e+00   1.11022302e-16]\n",
      " [  0.00000000e+00   1.00000000e+00]]\n"
     ]
    }
   ],
   "source": [
    "import numpy as np \n",
    "\n",
    "A = np.array([[1,2],[3,4]]) \n",
    "Ainv = np.linalg.inv(A)\n",
    "\n",
    "print(A,'\\n') \n",
    "print(Ainv,'\\n')\n",
    "I=np.dot(A,Ainv)\n",
    "print(I)"
   ]
  },
  {
   "cell_type": "markdown",
   "metadata": {},
   "source": [
    "## 3. Vandermonde matrix"
   ]
  },
  {
   "cell_type": "markdown",
   "metadata": {},
   "source": [
    "Numpy has a function to calculate the Vandermonde matrix. "
   ]
  },
  {
   "cell_type": "code",
   "execution_count": 44,
   "metadata": {},
   "outputs": [
    {
     "data": {
      "text/plain": [
       "array([[  1,   1,   1,   1],\n",
       "       [  1,   2,   4,   8],\n",
       "       [  1,   3,   9,  27],\n",
       "       [  1,   5,  25, 125]])"
      ]
     },
     "execution_count": 44,
     "metadata": {},
     "output_type": "execute_result"
    }
   ],
   "source": [
    "import numpy as np \n",
    "\n",
    "x = np.array([1, 2, 3, 5])\n",
    "\n",
    "# To fit a straight-line, polynomial of degree 1\n",
    "D=3\n",
    "\n",
    "np.vander(x, D+1, increasing=True) #NOTE: argument is D+1"
   ]
  },
  {
   "cell_type": "code",
   "execution_count": 45,
   "metadata": {},
   "outputs": [
    {
     "data": {
      "text/plain": [
       "array([[  1,   1,   1,   1],\n",
       "       [  8,   4,   2,   1],\n",
       "       [ 27,   9,   3,   1],\n",
       "       [125,  25,   5,   1]])"
      ]
     },
     "execution_count": 45,
     "metadata": {},
     "output_type": "execute_result"
    }
   ],
   "source": [
    "D=3\n",
    "np.vander(x, D+1) #Note the order"
   ]
  },
  {
   "cell_type": "code",
   "execution_count": 4,
   "metadata": {},
   "outputs": [
    {
     "data": {
      "text/plain": [
       "array([[  1,   1,   1,   1,   1],\n",
       "       [  1,   2,   4,   8,  16],\n",
       "       [  1,   3,   9,  27,  81],\n",
       "       [  1,   5,  25, 125, 625]])"
      ]
     },
     "execution_count": 4,
     "metadata": {},
     "output_type": "execute_result"
    }
   ],
   "source": [
    "D=4\n",
    "np.vander(x, D+1, increasing=True)"
   ]
  },
  {
   "cell_type": "markdown",
   "metadata": {},
   "source": [
    "## 4. Polynomial fitting"
   ]
  },
  {
   "cell_type": "code",
   "execution_count": 55,
   "metadata": {},
   "outputs": [
    {
     "name": "stdout",
     "output_type": "stream",
     "text": [
      "[-2.  -1.5 -1.  -0.5  0.   0.5  1.   1.5  2. ]\n",
      "0 4.4408920985e-16\n",
      "1 -2.03104773304e-16\n",
      "2 -0.4\n",
      "3 5.88131613494e-17\n"
     ]
    }
   ],
   "source": [
    "def polyfit(x,y,D):\n",
    "    '''\n",
    "        Fits a given set of data x,y to a polynomial of degree D\n",
    "    '''\n",
    "    import numpy as np \n",
    "    \n",
    "    #N=x.shape()\n",
    "    \n",
    "    X=np.vander(x, D+1, increasing=True)\n",
    "    XT=np.transpose(X)\n",
    "    \n",
    "    A=np.matmul(XT,X)\n",
    "    Ainv=np.linalg.inv(A)\n",
    "    \n",
    "    b=np.matmul(XT,y)\n",
    "    \n",
    "    a=np.matmul(Ainv,b)\n",
    "    \n",
    "    return(a)\n",
    "\n",
    "#=== Let's fit a data from a parabola to a polynomial of degree 'D'\n",
    "\n",
    "x_i=-2.0\n",
    "x_f=2.0\n",
    "dx=0.5\n",
    "x=np.arange(x_i, x_f+dx, dx, float) # start, stop, step, dtype\n",
    "\n",
    "print(x)\n",
    "\n",
    "y=-0.4*x**2\n",
    "\n",
    "D=3  # Degree = 3\n",
    "a=polyfit(x,y,D)\n",
    "\n",
    "for i in range(D+1):\n",
    "    print(i,a[i])"
   ]
  },
  {
   "cell_type": "markdown",
   "metadata": {},
   "source": [
    "Only the quadratic term survives, all other coefficients are zero!"
   ]
  },
  {
   "cell_type": "markdown",
   "metadata": {},
   "source": [
    "To evaluate the polynomial, i.e., the estimated values of y, one can write another function, called polyval."
   ]
  },
  {
   "cell_type": "code",
   "execution_count": 40,
   "metadata": {},
   "outputs": [
    {
     "name": "stdout",
     "output_type": "stream",
     "text": [
      "[ -1.60000000e+00  -9.00000000e-01  -4.00000000e-01  -1.00000000e-01\n",
      "   4.44089210e-16  -1.00000000e-01  -4.00000000e-01  -9.00000000e-01\n",
      "  -1.60000000e+00]\n"
     ]
    }
   ],
   "source": [
    "def polyval(a,x):\n",
    "    '''\n",
    "        Determines the value of the polynomial using x and the coefficient vector a\n",
    "    '''\n",
    "    import numpy as np\n",
    "    D=a.shape[0]\n",
    "    N=x.shape\n",
    "\n",
    "    y=np.zeros(N)\n",
    "    for i in range(D):\n",
    "        y=y+a[i]*x**i\n",
    "    \n",
    "    return(y)\n",
    "\n",
    "yfit=polyval(a,x)\n",
    "print(yfit)"
   ]
  },
  {
   "cell_type": "code",
   "execution_count": null,
   "metadata": {
    "collapsed": true
   },
   "outputs": [],
   "source": []
  }
 ],
 "metadata": {
  "kernelspec": {
   "display_name": "Python 3",
   "language": "python",
   "name": "python3"
  },
  "language_info": {
   "codemirror_mode": {
    "name": "ipython",
    "version": 3
   },
   "file_extension": ".py",
   "mimetype": "text/x-python",
   "name": "python",
   "nbconvert_exporter": "python",
   "pygments_lexer": "ipython3",
   "version": "3.6.10"
  }
 },
 "nbformat": 4,
 "nbformat_minor": 2
}
