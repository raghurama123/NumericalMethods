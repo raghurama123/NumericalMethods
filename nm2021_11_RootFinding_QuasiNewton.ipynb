{
 "cells": [
  {
   "cell_type": "markdown",
   "metadata": {},
   "source": [
    "# Content:\n",
    "1. [Quasi Newton: 1D, Secant Method](#1.-Quasi-Newton:-1D,-Secant-Method)\n",
    "2. [Quasi Newton: nD, Broyden Method](#2.-Quasi-Newton:-nD,-Broyden-Method)\n",
    "3. ['n' equations with 'm' unknowns: use of pseudoinverse](#3.-'n'-equations-with-'m'-unknowns:-use-of-pseudoinverse)"
   ]
  },
  {
   "cell_type": "markdown",
   "metadata": {},
   "source": [
    "## 1. Quasi Newton: 1D, Secant Method"
   ]
  },
  {
   "cell_type": "markdown",
   "metadata": {},
   "source": [
    "![board%20work%20-61.jpg](boardwork/board%20work%20-61.jpg)"
   ]
  },
  {
   "cell_type": "code",
   "execution_count": 3,
   "metadata": {
    "collapsed": true
   },
   "outputs": [],
   "source": [
    "import numpy as np\n",
    "\n",
    "def Secant(x0, f, maxiter, maxeval, xtol, ftol, xeps, iprint):\n",
    "    '''\n",
    "        x0 (input, float): initial guess for the solution\n",
    "        f (input, function): function for which f(x)=0 is solved\n",
    "        maxiter (input, int): maximum number of iterations\n",
    "        maxeval (input, int): maximum number of function evaluations\n",
    "        xtol (input, float): tolerence for convergence in x\n",
    "        ftol (input, float): tolerence for convergence in f\n",
    "        xeps (input, float): step needed to find x1 from x0\n",
    "        iprint (input, int): print option, 1 for additional printing\n",
    "\n",
    "    '''\n",
    "    \n",
    "    if iprint == 1:\n",
    "        print('#iter feval   xn               f(xn)            dx               df')\n",
    "    \n",
    "    iiter=0\n",
    "    ieval=0\n",
    "    \n",
    "    x1=x0\n",
    "    f0=f(x0)\n",
    "    ieval=ieval+1\n",
    "    if iprint == 1:\n",
    "        print('{:5d}{:5d}{:17.8e}{:17.8e}'.format(iiter, ieval, x0, f0))\n",
    "\n",
    "    x1 = x0 + xeps\n",
    "    \n",
    "    iiter=iiter+1\n",
    "    \n",
    "    xconv = 1e99\n",
    "    fconv = 1e99\n",
    "    \n",
    "    while xconv > xtol and fconv > ftol:\n",
    "                \n",
    "        f1=f(x1)\n",
    "        ieval=ieval+1\n",
    "        \n",
    "        if iprint == 1:\n",
    "            print('{:5d}{:5d}{:17.8e}{:17.8e}{:17.8e}{:17.8e}'.format(iiter, ieval, x1, f1, xconv, fconv))\n",
    "        \n",
    "        df1 = (f1-f0)/(x1-x0)\n",
    "        \n",
    "        x0 = x1\n",
    "        fconv=abs(f1-f0)\n",
    "        \n",
    "        f0 = f1\n",
    "        \n",
    "        x1 = x0 - f1 / df1\n",
    "\n",
    "        xconv=abs(x1-x0)\n",
    "                \n",
    "        if iiter >= maxiter:\n",
    "            print('Exiting Secant, maximum iterations reached')\n",
    "            break\n",
    "            \n",
    "        if ieval >= maxeval:\n",
    "            print('Exiting Secant, maximum function evaluations reached')\n",
    "            break\n",
    "        \n",
    "    print('Exiting Secant, convergence reached')  \n",
    "    return x1"
   ]
  },
  {
   "cell_type": "code",
   "execution_count": 6,
   "metadata": {},
   "outputs": [
    {
     "name": "stdout",
     "output_type": "stream",
     "text": [
      "#iter feval   xn               f(xn)            dx               df\n",
      "    0    1   2.00000000e+00  -4.64664717e-01\n",
      "    1    2   2.01000000e+00  -4.64011325e-01   1.00000000e+99   1.00000000e+99\n",
      "    1    3   9.11158264e+00   8.22426908e-01   7.10158264e+00   6.53391432e-04\n",
      "    1    4   4.57150252e+00  -7.53570882e-02   4.54008012e+00   1.28643823e+00\n",
      "    1    5   4.95258218e+00  -2.41842305e-03   3.81079658e-01   8.97783996e-01\n",
      "    1    6   4.96521761e+00   1.99546066e-05   1.26354359e-02   7.29386651e-02\n",
      "    1    7   4.96511421e+00  -4.53945181e-09   1.03402831e-04   2.43837766e-03\n",
      "Exiting Secant, convergence reached\n",
      "The solution is:  4.96511423174\n"
     ]
    }
   ],
   "source": [
    "def f(x):\n",
    "    val=np.exp(-x)+x/5.0-1.0\n",
    "    return val\n",
    "\n",
    "x0=2.0\n",
    "iprint=1\n",
    "\n",
    "maxiter=100\n",
    "maxeval=100\n",
    "\n",
    "xtol=0.0001\n",
    "ftol=0.0001\n",
    "\n",
    "xeps=0.01\n",
    "\n",
    "x=Secant(x0,f,maxiter,maxeval,xtol,ftol,xeps,iprint)\n",
    "print('The solution is: ',x)"
   ]
  },
  {
   "cell_type": "markdown",
   "metadata": {},
   "source": [
    "## 2. Quasi Newton: nD, Broyden Method"
   ]
  },
  {
   "cell_type": "markdown",
   "metadata": {},
   "source": [
    "![board%20work%20-62.jpg](boardwork/board%20work%20-62.jpg)\n",
    "![board%20work%20-63.jpg](boardwork/board%20work%20-63.jpg)"
   ]
  },
  {
   "cell_type": "code",
   "execution_count": null,
   "metadata": {
    "collapsed": true
   },
   "outputs": [],
   "source": []
  }
 ],
 "metadata": {
  "kernelspec": {
   "display_name": "Python 3",
   "language": "python",
   "name": "python3"
  },
  "language_info": {
   "codemirror_mode": {
    "name": "ipython",
    "version": 3
   },
   "file_extension": ".py",
   "mimetype": "text/x-python",
   "name": "python",
   "nbconvert_exporter": "python",
   "pygments_lexer": "ipython3",
   "version": "3.6.10"
  }
 },
 "nbformat": 4,
 "nbformat_minor": 2
}
