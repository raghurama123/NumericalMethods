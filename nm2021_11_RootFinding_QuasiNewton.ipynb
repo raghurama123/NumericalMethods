{
 "cells": [
  {
   "cell_type": "markdown",
   "metadata": {},
   "source": [
    "# Content:\n",
    "1. [Quasi Newton: 1D, Secant Method](#1.-Quasi-Newton:-1D,-Secant-Method)\n",
    "2. [Quasi Newton: nD, Broyden Method](#2.-Quasi-Newton:-nD,-Broyden-Method)"
   ]
  },
  {
   "cell_type": "markdown",
   "metadata": {},
   "source": [
    "## 1. Quasi Newton: 1D, Secant Method"
   ]
  },
  {
   "cell_type": "markdown",
   "metadata": {},
   "source": [
    "![board%20work%20-61.jpg](boardwork/board%20work%20-61.jpg)"
   ]
  },
  {
   "cell_type": "code",
   "execution_count": 5,
   "metadata": {},
   "outputs": [],
   "source": [
    "import numpy as np\n",
    "\n",
    "def Secant(x0, f, maxiter, maxeval, xtol, ftol, xeps, iprint):\n",
    "    '''\n",
    "        x0 (input, float): initial guess for the solution\n",
    "        f (input, function): function for which f(x)=0 is solved\n",
    "        maxiter (input, int): maximum number of iterations\n",
    "        maxeval (input, int): maximum number of function evaluations\n",
    "        xtol (input, float): tolerence for convergence in x\n",
    "        ftol (input, float): tolerence for convergence in f\n",
    "        xeps (input, float): step needed to find x1 from x0\n",
    "        iprint (input, int): print option, 1 for additional printing\n",
    "\n",
    "    '''\n",
    "    \n",
    "    if iprint == 1:\n",
    "        print('#iter    xn               f(xn)            dx               df               g')\n",
    "    \n",
    "    iiter=0\n",
    "    ieval=0\n",
    "    \n",
    "    f0=f(x0)\n",
    "    ieval=ieval+1\n",
    "    \n",
    "    if iprint == 1:\n",
    "        print('{:5d}{:17.8e}{:17.8e}'.format(iiter, x0, f0))\n",
    "\n",
    "    x1 = x0 + xeps\n",
    "    \n",
    "    iiter=iiter+1\n",
    "    \n",
    "    xconv = 1e99\n",
    "    fconv = 1e99\n",
    "    df1   = 1e99\n",
    "    \n",
    "    while xconv > xtol or fconv > ftol:\n",
    "                \n",
    "        f1=f(x1)\n",
    "        ieval=ieval+1\n",
    "        \n",
    "        if iprint == 1:\n",
    "            print('{:5d}{:17.8e}{:17.8e}{:17.8e}{:17.8e}{:17.8e}'.format(iiter, x1, f1, xconv, fconv, df1))\n",
    "        \n",
    "        df1 = (f1-f0)/(x1-x0) # derivative is calculated numerically as a finite-derivative\n",
    "        \n",
    "        x0 = x1\n",
    "        fconv=abs(f1-f0)\n",
    "        \n",
    "        f0 = f1\n",
    "        \n",
    "        x1 = x0 - f1 / df1\n",
    "\n",
    "        xconv=abs(x1-x0)\n",
    "                \n",
    "        if iiter >= maxiter:\n",
    "            print('Exiting Secant, maximum iterations reached')\n",
    "            break\n",
    "            \n",
    "        if ieval >= maxeval:\n",
    "            print('Exiting Secant, maximum function evaluations reached')\n",
    "            break\n",
    "        \n",
    "    print('Exiting Secant, convergence reached')  \n",
    "    return x1"
   ]
  },
  {
   "cell_type": "code",
   "execution_count": 6,
   "metadata": {},
   "outputs": [
    {
     "name": "stdout",
     "output_type": "stream",
     "text": [
      "#iter    xn               f(xn)            dx               df               g\n",
      "    0   2.00000000e+00  -4.64664717e-01\n",
      "    1   2.01000000e+00  -4.64011325e-01   1.00000000e+99   1.00000000e+99   1.00000000e+99\n",
      "    1   9.11158264e+00   8.22426908e-01   7.10158264e+00   6.53391432e-04   6.53391432e-02\n",
      "    1   4.57150252e+00  -7.53570882e-02   4.54008012e+00   1.28643823e+00   1.81148104e-01\n",
      "    1   4.95258218e+00  -2.41842305e-03   3.81079658e-01   8.97783996e-01   1.97746289e-01\n",
      "    1   4.96521761e+00   1.99546066e-05   1.26354359e-02   7.29386651e-02   1.91400049e-01\n",
      "    1   4.96511421e+00  -4.53945181e-09   1.03402831e-04   2.43837766e-03   1.92979306e-01\n",
      "Exiting Secant, convergence reached\n",
      "The solution is:  4.96511423174\n"
     ]
    }
   ],
   "source": [
    "def Wienfunction(x):\n",
    "    val=np.exp(-x)+x/5.0-1.0\n",
    "    return val\n",
    "\n",
    "x0=2.0\n",
    "iprint=1\n",
    "\n",
    "maxiter=100\n",
    "maxeval=100\n",
    "\n",
    "xtol=0.0001\n",
    "ftol=0.0001\n",
    "\n",
    "xeps=0.01 # used to find x1 as x0 + Delta x0\n",
    "\n",
    "x=Secant(x0,Wienfunction,maxiter,maxeval,xtol,ftol,xeps,iprint)\n",
    "print('The solution is: ',x)"
   ]
  },
  {
   "cell_type": "code",
   "execution_count": 7,
   "metadata": {},
   "outputs": [
    {
     "name": "stdout",
     "output_type": "stream",
     "text": [
      "\n",
      "        x0 (input, float): initial guess for the solution\n",
      "        f (input, function): function for which f(x)=0 is solved\n",
      "        maxiter (input, int): maximum number of iterations\n",
      "        maxeval (input, int): maximum number of function evaluations\n",
      "        xtol (input, float): tolerence for convergence in x\n",
      "        ftol (input, float): tolerence for convergence in f\n",
      "        xeps (input, float): step needed to find x1 from x0\n",
      "        iprint (input, int): print option, 1 for additional printing\n",
      "\n",
      "    \n"
     ]
    }
   ],
   "source": [
    "print(Secant.__doc__) # printing the doc string of a function"
   ]
  },
  {
   "cell_type": "markdown",
   "metadata": {},
   "source": [
    "## 2. Quasi Newton: nD, Broyden Method"
   ]
  },
  {
   "cell_type": "markdown",
   "metadata": {},
   "source": [
    "![board%20work%20-62.jpg](boardwork/board%20work%20-62.jpg)\n",
    "![board%20work%20-63.jpg](boardwork/board%20work%20-63.jpg)"
   ]
  },
  {
   "cell_type": "markdown",
   "metadata": {},
   "source": [
    "---\n",
    "Homework-18: Write a python function for finding the root of an arbitrary n-dimensional function using Broyden's method. Show that the function produces desired output for higher-dimensional funtion of your choice. The solution for this problem will be graded (10 marks). A notebook containing the solution along with your full name, batch, code, etc. must be sent to me via Google classroom on or before May 08, 2021.\n",
    "\n",
    "---"
   ]
  }
 ],
 "metadata": {
  "kernelspec": {
   "display_name": "Python 3",
   "language": "python",
   "name": "python3"
  },
  "language_info": {
   "codemirror_mode": {
    "name": "ipython",
    "version": 3
   },
   "file_extension": ".py",
   "mimetype": "text/x-python",
   "name": "python",
   "nbconvert_exporter": "python",
   "pygments_lexer": "ipython3",
   "version": "3.6.10"
  }
 },
 "nbformat": 4,
 "nbformat_minor": 2
}
