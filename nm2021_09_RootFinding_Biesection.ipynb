{
 "cells": [
  {
   "cell_type": "markdown",
   "metadata": {},
   "source": [
    "![board%20work%20-44.jpg](boardwork/board%20work%20-44.jpg)\n",
    "![board%20work%20-45.jpg](boardwork/board%20work%20-45.jpg)\n",
    "![board%20work%20-46.jpg](boardwork/board%20work%20-46.jpg)"
   ]
  },
  {
   "cell_type": "code",
   "execution_count": 59,
   "metadata": {
    "collapsed": true
   },
   "outputs": [],
   "source": [
    "import numpy as np\n",
    "\n",
    "def bisection(fn, a0, b0, xthresh, maxeval, iprint):\n",
    "    \n",
    "    if iprint == 1:\n",
    "        print('#iter     a              b              x              dx')\n",
    "  \n",
    "    ieval=0\n",
    "    iiter=1\n",
    "    \n",
    "    a=a0\n",
    "    b=b0\n",
    "    \n",
    "    dx = abs(a-b)\n",
    "    \n",
    "    while dx > xthresh or iiter < 10:\n",
    "        \n",
    "        x  = (a+b)/2.0\n",
    "                \n",
    "        dx = abs(a-b)\n",
    "            \n",
    "        if iprint == 1:\n",
    "            print('{:5d}{:15.6e}{:15.6e}{:15.6e}{:15.6e}'.format(iiter, a, b, x, dx))\n",
    "            \n",
    "                \n",
    "        fx = fn(x)\n",
    "        fb = fn(b)\n",
    "        \n",
    "        if fx*fb > 0:\n",
    "            b = x\n",
    "        else:\n",
    "            a = x           \n",
    "        \n",
    "        ieval=ieval+2\n",
    "        if ieval >= maxeval:\n",
    "            print('Exiting fixed-point iteration, maximum function evaluations reached')\n",
    "            break\n",
    "        \n",
    "        iiter=iiter+1\n",
    "\n",
    "    return x    \n",
    "    print('Exiting fixed-point iteration, convergence reached')  "
   ]
  },
  {
   "cell_type": "code",
   "execution_count": 60,
   "metadata": {
    "collapsed": true
   },
   "outputs": [],
   "source": [
    "def fn_f(x):\n",
    "    val=np.exp(-x)+x/5.0-1\n",
    "    return val"
   ]
  },
  {
   "cell_type": "code",
   "execution_count": 61,
   "metadata": {},
   "outputs": [
    {
     "name": "stdout",
     "output_type": "stream",
     "text": [
      "#iter     a              b              x              dx\n",
      "    1   4.000000e+00   6.000000e+00   5.000000e+00   2.000000e+00\n",
      "    2   4.000000e+00   5.000000e+00   4.500000e+00   1.000000e+00\n",
      "    3   4.500000e+00   5.000000e+00   4.750000e+00   5.000000e-01\n",
      "    4   4.750000e+00   5.000000e+00   4.875000e+00   2.500000e-01\n",
      "    5   4.875000e+00   5.000000e+00   4.937500e+00   1.250000e-01\n",
      "    6   4.937500e+00   5.000000e+00   4.968750e+00   6.250000e-02\n",
      "    7   4.937500e+00   4.968750e+00   4.953125e+00   3.125000e-02\n",
      "    8   4.953125e+00   4.968750e+00   4.960938e+00   1.562500e-02\n",
      "    9   4.960938e+00   4.968750e+00   4.964844e+00   7.812500e-03\n",
      "   10   4.964844e+00   4.968750e+00   4.966797e+00   3.906250e-03\n",
      "   11   4.964844e+00   4.966797e+00   4.965820e+00   1.953125e-03\n",
      "   12   4.964844e+00   4.965820e+00   4.965332e+00   9.765625e-04\n",
      "   13   4.964844e+00   4.965332e+00   4.965088e+00   4.882812e-04\n",
      "   14   4.965088e+00   4.965332e+00   4.965210e+00   2.441406e-04\n",
      "   15   4.965088e+00   4.965210e+00   4.965149e+00   1.220703e-04\n",
      "   16   4.965088e+00   4.965149e+00   4.965118e+00   6.103516e-05\n",
      "The solution is:  4.965118408203125\n"
     ]
    }
   ],
   "source": [
    "a = 4.0\n",
    "b = 6.0\n",
    "maxeval = 100\n",
    "xthresh = 0.0001\n",
    "iprint=1\n",
    "x = bisection(fn_f, a, b, xthresh, maxeval,iprint)\n",
    "print('The solution is: ',x)"
   ]
  }
 ],
 "metadata": {
  "kernelspec": {
   "display_name": "Python 3",
   "language": "python",
   "name": "python3"
  },
  "language_info": {
   "codemirror_mode": {
    "name": "ipython",
    "version": 3
   },
   "file_extension": ".py",
   "mimetype": "text/x-python",
   "name": "python",
   "nbconvert_exporter": "python",
   "pygments_lexer": "ipython3",
   "version": "3.6.10"
  }
 },
 "nbformat": 4,
 "nbformat_minor": 2
}
