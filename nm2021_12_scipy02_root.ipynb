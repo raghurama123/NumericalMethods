{
 "cells": [
  {
   "cell_type": "markdown",
   "metadata": {},
   "source": [
    "# `scipy.root`"
   ]
  },
  {
   "cell_type": "markdown",
   "metadata": {},
   "source": [
    "Scipy has a lot of functions available in the module root [https://docs.scipy.org/doc/scipy/reference/optimize.html#root-finding](https://docs.scipy.org/doc/scipy/reference/optimize.html#root-finding). Due to the close connection between root-finding and optimization (maximization/minimization), functions for `scipy.optimize` and `scipy.root` are collected together."
   ]
  },
  {
   "cell_type": "markdown",
   "metadata": {},
   "source": [
    "## For 1D functions (`scipy.optimize.root_scalar`)"
   ]
  },
  {
   "cell_type": "code",
   "execution_count": 1,
   "metadata": {},
   "outputs": [],
   "source": [
    "import numpy as np\n",
    "\n",
    "def f(x):\n",
    "    val=np.exp(-x)+x/5.0-1.0\n",
    "    return val\n",
    "\n",
    "def df(x):\n",
    "    val=-np.exp(-x)+1.0/5.0\n",
    "    return val"
   ]
  },
  {
   "cell_type": "markdown",
   "metadata": {},
   "source": [
    "### Bisection"
   ]
  },
  {
   "cell_type": "markdown",
   "metadata": {},
   "source": [
    "Have a quick look at the [manual]((https://docs.scipy.org/doc/scipy/reference/generated/scipy.optimize.bisect.html#scipy.optimize.bisect)"
   ]
  },
  {
   "cell_type": "code",
   "execution_count": 2,
   "metadata": {},
   "outputs": [
    {
     "data": {
      "text/plain": [
       "(4.9651148319244385,       converged: True\n",
       "            flag: 'converged'\n",
       "  function_calls: 24\n",
       "      iterations: 22\n",
       "            root: 4.9651148319244385)"
      ]
     },
     "execution_count": 2,
     "metadata": {},
     "output_type": "execute_result"
    }
   ],
   "source": [
    "from scipy import optimize\n",
    "a=2\n",
    "b=5\n",
    "optimize.bisect(f, a, b, xtol=1e-6, maxiter=100, full_output=True)"
   ]
  },
  {
   "cell_type": "markdown",
   "metadata": {},
   "source": [
    "Alternatively, one can call `scipy.optimize.bisect` using the `root_scalar` function."
   ]
  },
  {
   "cell_type": "code",
   "execution_count": 3,
   "metadata": {},
   "outputs": [
    {
     "data": {
      "text/plain": [
       "      converged: True\n",
       "           flag: 'converged'\n",
       " function_calls: 24\n",
       "     iterations: 22\n",
       "           root: 4.9651148319244385"
      ]
     },
     "execution_count": 3,
     "metadata": {},
     "output_type": "execute_result"
    }
   ],
   "source": [
    "optimize.root_scalar(f, method='bisect', bracket=[a,b], x0=None, options={'xtol':1e-6, 'maxiter':100})"
   ]
  },
  {
   "cell_type": "markdown",
   "metadata": {},
   "source": [
    "### Newton-Raphson"
   ]
  },
  {
   "cell_type": "markdown",
   "metadata": {},
   "source": [
    "Have a quick look at the [manual](https://docs.scipy.org/doc/scipy/reference/generated/scipy.optimize.newton.html#scipy.optimize.newton)"
   ]
  },
  {
   "cell_type": "code",
   "execution_count": 4,
   "metadata": {},
   "outputs": [
    {
     "data": {
      "text/plain": [
       "      converged: True\n",
       "           flag: 'converged'\n",
       " function_calls: 10\n",
       "     iterations: 5\n",
       "           root: 4.965114231744276"
      ]
     },
     "execution_count": 4,
     "metadata": {},
     "output_type": "execute_result"
    }
   ],
   "source": [
    "x0=2.0\n",
    "optimize.root_scalar(f, fprime=df, method='newton', bracket=None, x0=2.0, \\\n",
    "                     options={'tol':1e-6, 'maxiter':100})"
   ]
  },
  {
   "cell_type": "markdown",
   "metadata": {},
   "source": [
    "### Secant"
   ]
  },
  {
   "cell_type": "code",
   "execution_count": 5,
   "metadata": {},
   "outputs": [
    {
     "data": {
      "text/plain": [
       "      converged: True\n",
       "           flag: 'converged'\n",
       " function_calls: 7\n",
       "     iterations: 6\n",
       "           root: 4.9651142317442298"
      ]
     },
     "execution_count": 5,
     "metadata": {},
     "output_type": "execute_result"
    }
   ],
   "source": [
    "optimize.root_scalar(f, fprime=None, x1=x0+0.01, method='secant', bracket=None, x0=2.0, \\\n",
    "                     options={'tol':1e-6, 'maxiter':100})"
   ]
  },
  {
   "cell_type": "markdown",
   "metadata": {},
   "source": [
    "## For nD functions (`scipy.optimize.root`)\n"
   ]
  },
  {
   "cell_type": "code",
   "execution_count": 6,
   "metadata": {
    "collapsed": true
   },
   "outputs": [],
   "source": [
    "import numpy as np\n",
    "\n",
    "def fnF(X):\n",
    "    x1=X[0]\n",
    "    x2=X[1]\n",
    "    \n",
    "    N=len(X)\n",
    "    \n",
    "    Fvec=np.zeros(N)\n",
    "    \n",
    "    Fvec[0] = x1**2 + x2**2 - 1.0\n",
    "    Fvec[1] = np.sin(np.pi*x1/2.0) + x2**3\n",
    "    \n",
    "    return Fvec"
   ]
  },
  {
   "cell_type": "code",
   "execution_count": 7,
   "metadata": {},
   "outputs": [
    {
     "data": {
      "text/plain": [
       "     fun: array([-0.75345259, -0.34399305])\n",
       " message: 'The maximum number of iterations allowed has been reached.'\n",
       "     nit: 300\n",
       "  status: 2\n",
       " success: False\n",
       "       x: array([-0.15343032, -0.47223569])"
      ]
     },
     "execution_count": 7,
     "metadata": {},
     "output_type": "execute_result"
    }
   ],
   "source": [
    "x0=np.array([5.0,-7.0])\n",
    "optimize.root(fnF,x0,method='broyden1')"
   ]
  },
  {
   "cell_type": "markdown",
   "metadata": {},
   "source": [
    "#### In the last class, we calculated the exact solution using Newton-Raphson and got the following output\n",
    "\n",
    "---\n",
    "Exiting Newton-Raphson, convergence reached\n",
    "The solution is:  [-0.47609582  0.87939341]\n",
    "\n",
    "---\n",
    "\n",
    "So, here Broyden failed, probably because of our initial guess is bad!"
   ]
  },
  {
   "cell_type": "markdown",
   "metadata": {},
   "source": [
    "#### Let's try different choices for the inital guess vector"
   ]
  },
  {
   "cell_type": "code",
   "execution_count": 8,
   "metadata": {},
   "outputs": [
    {
     "data": {
      "text/plain": [
       "     fun: array([ 0.05652024, -1.01608733])\n",
       " message: 'The maximum number of iterations allowed has been reached.'\n",
       "     nit: 300\n",
       "  status: 2\n",
       " success: False\n",
       "       x: array([-0.99636861, -0.2525269 ])"
      ]
     },
     "execution_count": 8,
     "metadata": {},
     "output_type": "execute_result"
    }
   ],
   "source": [
    "x0=np.array([0,0])\n",
    "optimize.root(fnF,x0,method='broyden1')"
   ]
  },
  {
   "cell_type": "code",
   "execution_count": 9,
   "metadata": {},
   "outputs": [
    {
     "data": {
      "text/plain": [
       "     fun: array([ -1.83626278e-06,   4.40126649e-07])\n",
       " message: 'A solution was found at the specified tolerance.'\n",
       "     nit: 13\n",
       "  status: 1\n",
       " success: True\n",
       "       x: array([-0.47609463,  0.87939301])"
      ]
     },
     "execution_count": 9,
     "metadata": {},
     "output_type": "execute_result"
    }
   ],
   "source": [
    "x0=np.array([1,1])\n",
    "optimize.root(fnF,x0,method='broyden1')"
   ]
  },
  {
   "cell_type": "code",
   "execution_count": null,
   "metadata": {
    "collapsed": true
   },
   "outputs": [],
   "source": []
  }
 ],
 "metadata": {
  "kernelspec": {
   "display_name": "Python 3",
   "language": "python",
   "name": "python3"
  },
  "language_info": {
   "codemirror_mode": {
    "name": "ipython",
    "version": 3
   },
   "file_extension": ".py",
   "mimetype": "text/x-python",
   "name": "python",
   "nbconvert_exporter": "python",
   "pygments_lexer": "ipython3",
   "version": "3.6.10"
  }
 },
 "nbformat": 4,
 "nbformat_minor": 2
}
