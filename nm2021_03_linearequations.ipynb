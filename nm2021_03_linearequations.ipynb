{
 "cells": [
  {
   "cell_type": "markdown",
   "metadata": {},
   "source": [
    "# Content:\n",
    "1. [Systems of linear algebraic equations](#1.-Systems-of-linear-algebraic-equations)\n",
    "2. [Cramer's rule](#2.-Cramer's-rule)"
   ]
  },
  {
   "cell_type": "markdown",
   "metadata": {},
   "source": [
    "## 1. Systems of linear algebraic equations"
   ]
  },
  {
   "attachments": {},
   "cell_type": "markdown",
   "metadata": {},
   "source": [
    "![board%20work%20-3.jpg](boardwork/board%20work%20-3.jpg)"
   ]
  },
  {
   "cell_type": "markdown",
   "metadata": {},
   "source": [
    "## 2. Cramer's rule"
   ]
  },
  {
   "cell_type": "markdown",
   "metadata": {},
   "source": [
    "![board%20work%20-4.jpg](boardwork/board%20work%20-4.jpg)"
   ]
  },
  {
   "cell_type": "markdown",
   "metadata": {},
   "source": [
    "Now let's check the result with a bit of coding"
   ]
  },
  {
   "cell_type": "code",
   "execution_count": 32,
   "metadata": {},
   "outputs": [
    {
     "name": "stdout",
     "output_type": "stream",
     "text": [
      "The solution is: \n",
      " [ 1.  2.  3.]\n"
     ]
    }
   ],
   "source": [
    "import numpy as np\n",
    "\n",
    "A=np.array([[3,1,-1],[1,2,-1],[1,-1,4]])\n",
    "b=np.array([2,2,11])\n",
    "\n",
    "#=== Let's write our own function to find the determinant of a 3x3 matrix\n",
    "def det(A):\n",
    "    f1=A[0,0]*A[1,1]*A[2,2]\n",
    "    f2=A[0,1]*A[1,2]*A[2,0]\n",
    "    f3=A[0,2]*A[1,0]*A[2,1]\n",
    "    f4=A[2,0]*A[1,1]*A[0,2]\n",
    "    f5=A[2,1]*A[1,2]*A[0,0]\n",
    "    f6=A[2,2]*A[1,0]*A[0,1]\n",
    "    val=f1+f2+f3-f4-f5-f6\n",
    "    return val\n",
    "\n",
    "#=== A1, A2 and A3 are set to A\n",
    "A1=A.copy()\n",
    "A2=A.copy()\n",
    "A3=A.copy()\n",
    "\n",
    "#=== Then, all rows first column of A1 is set to b, and so on\n",
    "A1[:,0]=b\n",
    "A2[:,1]=b\n",
    "A3[:,2]=b\n",
    "\n",
    "#=== Cramer's rule\n",
    "x=np.zeros(3)\n",
    "x[0]=det(A1)/det(A)\n",
    "x[1]=det(A2)/det(A)\n",
    "x[2]=det(A3)/det(A)\n",
    "\n",
    "print('The solution is: \\n', x)"
   ]
  },
  {
   "cell_type": "markdown",
   "metadata": {},
   "source": [
    "You can use"
   ]
  }
 ],
 "metadata": {
  "kernelspec": {
   "display_name": "Python 3",
   "language": "python",
   "name": "python3"
  },
  "language_info": {
   "codemirror_mode": {
    "name": "ipython",
    "version": 3
   },
   "file_extension": ".py",
   "mimetype": "text/x-python",
   "name": "python",
   "nbconvert_exporter": "python",
   "pygments_lexer": "ipython3",
   "version": "3.6.10"
  }
 },
 "nbformat": 4,
 "nbformat_minor": 2
}
