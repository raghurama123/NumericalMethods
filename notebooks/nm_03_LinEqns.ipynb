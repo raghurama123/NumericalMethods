{
 "cells": [
  {
   "cell_type": "markdown",
   "metadata": {},
   "source": [
    "# Content:\n",
    "1. [Systems of linear algebraic equations](#1.-Systems-of-linear-algebraic-equations)\n",
    "2. [Cramer's rule](#2.-Cramer's-rule)\n",
    "3. [Mathematical stability and numerical stability](#3.-Mathematical-stability-and-numerical-stability)"
   ]
  },
  {
   "cell_type": "markdown",
   "metadata": {},
   "source": [
    "## 1. Systems of linear algebraic equations"
   ]
  },
  {
   "cell_type": "markdown",
   "metadata": {},
   "source": [
    "![board%20work%20-3.jpg](../boardwork/board%20work%20-3.jpg)"
   ]
  },
  {
   "cell_type": "markdown",
   "metadata": {},
   "source": [
    "## 2. Cramer's rule"
   ]
  },
  {
   "cell_type": "markdown",
   "metadata": {},
   "source": [
    "![board%20work%20-4.jpg](../boardwork/board%20work%20-4.jpg)"
   ]
  },
  {
   "cell_type": "markdown",
   "metadata": {},
   "source": [
    "Now let's check the result with a bit of coding"
   ]
  },
  {
   "cell_type": "code",
   "execution_count": 1,
   "metadata": {},
   "outputs": [
    {
     "name": "stdout",
     "output_type": "stream",
     "text": [
      "[0. 0. 0.]\n",
      "The solution by applying Cramer's rule is: \n",
      " [1. 2. 3.]\n"
     ]
    }
   ],
   "source": [
    "import numpy as np\n",
    "\n",
    "A=np.array(  [  [3,1,-1],   [1,2,-1],   [1,-1,4]   ]   )\n",
    "\n",
    "b=np.array([2,2,11])\n",
    "\n",
    "#=== Let's write our own function to find the determinant of a 3x3 matrix\n",
    "def det(A):  # determinant of a 3x3 matrix using Sarru's rule\n",
    "    f1=A[0,0]*A[1,1]*A[2,2]\n",
    "    f2=A[0,1]*A[1,2]*A[2,0]\n",
    "    f3=A[0,2]*A[1,0]*A[2,1]\n",
    "    f4=A[2,0]*A[1,1]*A[0,2]\n",
    "    f5=A[2,1]*A[1,2]*A[0,0]\n",
    "    f6=A[2,2]*A[1,0]*A[0,1]\n",
    "    val=f1+f2+f3-f4-f5-f6\n",
    "    return val\n",
    "\n",
    "#=== A1, A2 and A3 are set to A\n",
    "A1=A.copy()\n",
    "A2=A.copy()\n",
    "A3=A.copy()\n",
    "\n",
    "#=== Then, all rows first column of A1 is set to b, and so on\n",
    "A1[:,0]=b   # : means all rows, 0 means first column\n",
    "A2[:,1]=b   # : means all rows, 1 means second column\n",
    "A3[:,2]=b   # : means all rows, 2 means third column\n",
    "\n",
    "#=== Cramer's rule\n",
    "x=np.zeros(3)  # declare and assign it\n",
    "\n",
    "x[0]=det(A1)/det(A)\n",
    "x[1]=det(A2)/det(A)\n",
    "x[2]=det(A3)/det(A)\n",
    "\n",
    "print('The solution by applying Cramer\\'s rule is: \\n', x)"
   ]
  },
  {
   "cell_type": "markdown",
   "metadata": {},
   "source": [
    "You can use the determinant function that comes with numpy and check your implementation as follows"
   ]
  },
  {
   "cell_type": "code",
   "execution_count": 2,
   "metadata": {},
   "outputs": [
    {
     "name": "stdout",
     "output_type": "stream",
     "text": [
      "19 19.0\n"
     ]
    }
   ],
   "source": [
    "print(det(A), np.linalg.det(A))   # to check if numpy does it correctly, these two can differ up to machine precision"
   ]
  },
  {
   "cell_type": "code",
   "execution_count": 3,
   "metadata": {},
   "outputs": [
    {
     "name": "stdout",
     "output_type": "stream",
     "text": [
      "21.179999999999996 21.179999999999996\n"
     ]
    }
   ],
   "source": [
    "A=np.array(  [  [3.4,1,-1],   [1,2,-1.8],   [1,-1,4.5]   ]   )\n",
    "print(det(A), np.linalg.det(A)) "
   ]
  },
  {
   "cell_type": "code",
   "execution_count": 4,
   "metadata": {},
   "outputs": [
    {
     "name": "stdout",
     "output_type": "stream",
     "text": [
      "3.552713678800501e-15\n"
     ]
    }
   ],
   "source": [
    "print(21.18-21.179999999999996)"
   ]
  },
  {
   "cell_type": "markdown",
   "metadata": {},
   "source": [
    "Let's make our code compact"
   ]
  },
  {
   "cell_type": "code",
   "execution_count": 12,
   "metadata": {},
   "outputs": [
    {
     "name": "stdout",
     "output_type": "stream",
     "text": [
      "The solution by applying Cramer's rule is:\n",
      " [1. 2. 3.]\n"
     ]
    }
   ],
   "source": [
    "import numpy as np\n",
    "\n",
    "A=np.array([[3,1,-1],[1,2,-1],[1,-1,4]])\n",
    "b=np.array([2,2,11])\n",
    "\n",
    "x=np.zeros(3)\n",
    "detA=np.linalg.det(A) # det(A) is calculated once\n",
    "\n",
    "for i in range(0,3):  # Use a loop\n",
    "    A1=A.copy()\n",
    "    A1[:,i]=b\n",
    "    detA1=np.linalg.det(A1)\n",
    "    x[i]=detA1/detA\n",
    "\n",
    "print('The solution by applying Cramer\\'s rule is:\\n', x)  # back slash is an escape sequence\n",
    "                                                            # \\n means new line character, go to next line"
   ]
  },
  {
   "cell_type": "markdown",
   "metadata": {},
   "source": [
    "While Cramer's rule gives a analytic formula to solve the linear system, for it is not a recommended procedure for practical purposes. One of the main drawbacks of this procedure is the number of floating point operations involved. "
   ]
  },
  {
   "cell_type": "markdown",
   "metadata": {},
   "source": [
    "---\n",
    "* Homework-1: Determine the number of floating point operations encountered when running the previous code.\n",
    "\n",
    "---"
   ]
  },
  {
   "cell_type": "markdown",
   "metadata": {},
   "source": [
    "The formula for the  determinant of a 3x3 matrix involves the summation of 6 terms, each term contain 3 factors.  \n",
    "$$|{\\bf A}| = A_{1,1}\\times A_{2,2}\\times A_{3,3}+ A_{1,2}\\times A_{2,3}\\times A_{3,1} + A_{1,3}\\times A_{2,1}\\times A_{3,2} - A_{3,1}\\times A_{2,2}\\times A_{1,3} - A_{3,2}\\times A_{2,3}\\times A_{1,1} - A_{3,3}\\times A_{2,1}\\times A_{1,2}$$\n",
    "Extending the formula to an arbitrary $N \\times N$ matrix requires the application of [Leibniz formula for determinants](https://en.wikipedia.org/wiki/Leibniz_formula_for_determinants). In general, the formula for the determinant of an $N \\times N$ matrix will have $N!$ terms. We say that the procedure scales as $N!$ and denote the computational complexity in the big-O notation as ${\\mathcal O}(N!)$. The order of number of floating point operations in the formula of determinants is of the order of $N!$. Later we will see that there are more efficient ways for determining the solution of a system of linear equations with their computational complexity scaling as ${\\mathcal O}(N^3)$."
   ]
  },
  {
   "cell_type": "code",
   "execution_count": 17,
   "metadata": {},
   "outputs": [
    {
     "data": {
      "image/png": "[encoded data removed]",
      "text/plain": [
       "<Figure size 432x288 with 1 Axes>"
      ]
     },
     "metadata": {
      "needs_background": "light"
     },
     "output_type": "display_data"
    }
   ],
   "source": [
    "import numpy as np\n",
    "import matplotlib.pyplot as plt\n",
    "\n",
    "x=np.arange(9)\n",
    "y=x.copy()\n",
    "\n",
    "for i in range(x.shape[0]):\n",
    "    y[i]=np.math.factorial(x[i])\n",
    "\n",
    "#=== plot\n",
    "plt.plot(x,x**2,color='orange')\n",
    "plt.plot(x,x**3,color='blue')\n",
    "plt.plot(x,x**4,color='red')\n",
    "plt.plot(x,y,color='green')\n",
    "\n",
    "plt.xlabel('$N$')\n",
    "plt.ylabel('$O(N)$')\n",
    "\n",
    "plt.legend(['$N^2$', '$N^3$','$N^4$','$N$!'], loc ='upper left') \n",
    "\n",
    "plt.show()"
   ]
  },
  {
   "cell_type": "markdown",
   "metadata": {},
   "source": [
    "Before moving to other topics, let's code up the Cramer's rule as a stand-alone function."
   ]
  },
  {
   "cell_type": "code",
   "execution_count": 7,
   "metadata": {},
   "outputs": [
    {
     "name": "stdout",
     "output_type": "stream",
     "text": [
      "The solution by applying Cramer's rule is: \n",
      " [ 1.  2.  3.]\n"
     ]
    }
   ],
   "source": [
    "def cramers(A,b):\n",
    "    '''\n",
    "        Calculates the solution to A x = b, where\n",
    "            A is an NxN matrix\n",
    "            b is an vector of N elements\n",
    "    '''\n",
    "    import numpy as np\n",
    "    \n",
    "    N=A.shape[0]\n",
    "    x=np.zeros(N)\n",
    "    \n",
    "    detA=np.linalg.det(A)\n",
    "    \n",
    "    for i in range(3):\n",
    "        A1=A.copy()\n",
    "        A1[:,i]=b\n",
    "        detA1=np.linalg.det(A1)\n",
    "        \n",
    "        x[i]=detA1/detA\n",
    "        \n",
    "    return x\n",
    "\n",
    "A=np.array([[3,1,-1],[1,2,-1],[1,-1,4]])\n",
    "b=np.array([2,2,11])\n",
    "\n",
    "x=cramers(A,b)\n",
    "\n",
    "print('The solution by applying Cramer\\'s rule is: \\n', x)"
   ]
  },
  {
   "cell_type": "code",
   "execution_count": 8,
   "metadata": {},
   "outputs": [
    {
     "name": "stdout",
     "output_type": "stream",
     "text": [
      "\n",
      "        Calculates the solution to A x = b, where\n",
      "            A is an NxN matrix\n",
      "            b is an vector of N elements\n",
      "    \n"
     ]
    }
   ],
   "source": [
    "print(cramers.__doc__)"
   ]
  },
  {
   "cell_type": "markdown",
   "metadata": {},
   "source": [
    "---\n",
    "* Homework-2: Modify the function 'cramers' so that the code will terminate gracefully when the matrix 'A' is [singular](https://mathworld.wolfram.com/SingularMatrix.html) or when the matrix 'A' and the vector 'b' are not [conformable](https://en.wikipedia.org/wiki/Conformable_matrix).\n",
    "\n",
    "---"
   ]
  },
  {
   "cell_type": "markdown",
   "metadata": {},
   "source": [
    "## 3. Mathematical stability and numerical stability "
   ]
  },
  {
   "cell_type": "markdown",
   "metadata": {},
   "source": [
    "A procedure (for example, an equation) takes an input and returns an output. \n",
    "$$P(i)\\rightarrow o$$\n",
    "If the input is modified, the output is modified appropriately\n",
    "$$P(i+\\Delta i)\\rightarrow o + \\Delta o$$\n",
    "Let the relative change in the input is very small, say,  $|\\Delta i|/i=\\varepsilon$, where $\\varepsilon$ is the machine precision.\n",
    "\n",
    "* Then, if the relative change in the output, $|\\Delta o|/o$, is large then the procedure is mathematically unstable (i.e. ill-conditioned).  \n",
    "\n",
    "* If the relative change in the output is small, then the procedure is mathematically stable (i.e. well-conditioned), and the resulting deviation $|\\Delta o|$ is called the unavoidable error.\n",
    "\n",
    "Unavoidable error can be defined as the difference\n",
    "$$\\Delta o^{\\rm Unavoidable}=o^{\\rm exact}(i+\\varepsilon)-o^{\\rm calculated}(i+\\varepsilon)$$\n",
    "\n",
    "An algorithm is a sequence of elementary procedures which tranforms an input to an output through a sequence of intermediate quantitites, $q_i$.\n",
    "$$A(i)\\rightarrow q_1 \\rightarrow q_2\\rightarrow \\ldots\\rightarrow q_N\\rightarrow o$$\n",
    "If the error in $i$ and $q_i$ are only due to rounding-off, and the error in $o$ is comparable to the unavoidable error, then the algorithm is numerically stable."
   ]
  },
  {
   "cell_type": "markdown",
   "metadata": {},
   "source": [
    "Finding the machine precision with numpy"
   ]
  },
  {
   "cell_type": "code",
   "execution_count": 6,
   "metadata": {},
   "outputs": [
    {
     "name": "stdout",
     "output_type": "stream",
     "text": [
      "2.22044604925e-16\n"
     ]
    }
   ],
   "source": [
    "eps=np.finfo(float).eps\n",
    "print(eps)"
   ]
  },
  {
   "cell_type": "markdown",
   "metadata": {},
   "source": [
    "Examples:\n",
    "* $c=a\\times b$ is well-conditioned\n",
    "* $c=(a\\times b)^{10}$ is ill-conditioned"
   ]
  },
  {
   "cell_type": "code",
   "execution_count": 7,
   "metadata": {},
   "outputs": [
    {
     "name": "stdout",
     "output_type": "stream",
     "text": [
      "The outputs are: 25.0 25.0 and the error is 7.1054273576e-15\n"
     ]
    }
   ],
   "source": [
    "#=== calculating a*b is a well-conditioned problem\n",
    "import numpy as np\n",
    "a=25.0\n",
    "eps=np.finfo(float).eps\n",
    "\n",
    "b=1.0\n",
    "c=a*b\n",
    "\n",
    "b=1.0+eps  # a small change in the input\n",
    "d=a*b\n",
    "\n",
    "print('The outputs are:',c,d, 'and the error is',np.abs(c-d))"
   ]
  },
  {
   "cell_type": "code",
   "execution_count": 8,
   "metadata": {},
   "outputs": [
    {
     "name": "stdout",
     "output_type": "stream",
     "text": [
      "The outputs are: 95367431640625.0 9.53674316406e+13 and the error is 0.265625\n"
     ]
    }
   ],
   "source": [
    "#=== calculating (a*b)^10 is a ill-conditioned problem\n",
    "import numpy as np\n",
    "a=25.0\n",
    "eps=np.finfo(float).eps\n",
    "\n",
    "b=1.0\n",
    "c=(a*b)**10\n",
    "\n",
    "b=1.0+eps  # a small change in the input\n",
    "d=(a*b)**10\n",
    "\n",
    "print('The outputs are:',c,d, 'and the error is',np.abs(c-d))"
   ]
  },
  {
   "cell_type": "markdown",
   "metadata": {},
   "source": [
    "Another example  \n",
    "* Subtraction, $c=a-b,~{\\rm is~ill-conditioned~when}~a\\approx b~{\\rm and}~a\\ne b\\ne0$. "
   ]
  },
  {
   "cell_type": "code",
   "execution_count": 11,
   "metadata": {},
   "outputs": [
    {
     "name": "stdout",
     "output_type": "stream",
     "text": [
      "When x =  3e-16  The value of sin(x)/x is  1.0\n"
     ]
    }
   ],
   "source": [
    "import numpy as np\n",
    "x=3e-16\n",
    "y=np.sin(x)/x\n",
    "print('When x = ',x,' The value of sin(x)/x is ',y)"
   ]
  },
  {
   "cell_type": "code",
   "execution_count": 13,
   "metadata": {},
   "outputs": [
    {
     "name": "stdout",
     "output_type": "stream",
     "text": [
      "When a =  1.0000000000000002  and b =  1  The value of sin(x)/(a-b) is  1.35107988821\n"
     ]
    }
   ],
   "source": [
    "a=1+x\n",
    "b=1\n",
    "y=np.sin(x)/(a-b)\n",
    "print('When a = ',a,' and b = ',b, ' The value of sin(x)/(a-b) is ',y)"
   ]
  },
  {
   "cell_type": "markdown",
   "metadata": {},
   "source": [
    "> Now that we have some idea about mathematical and numerical stabilities, we can appreciate the fact that calculating a determinant is a numerically unstable process because of subtraction of terms of similar magnitudes."
   ]
  },
  {
   "cell_type": "markdown",
   "metadata": {},
   "source": [
    "---\n",
    "Homework-3: Show that the problem of solving the following linear equation is ill-conditioned for $|a|\\approx1$\n",
    "$$ \n",
    "ax+y=1\\\\\n",
    "x+ay=0\n",
    "$$\n",
    "\n",
    "---"
   ]
  },
  {
   "cell_type": "markdown",
   "metadata": {},
   "source": [
    "---\n",
    "Homework-4: Discuss a numerically stable algorithm and a numerically unstable algorithm to solve for $x$ in \n",
    "$$x^3-2a^2x-bx+2a\\sqrt{a^2+bx}=0$$\n",
    "\n",
    "---"
   ]
  }
 ],
 "metadata": {
  "kernelspec": {
   "display_name": "Python 3",
   "language": "python",
   "name": "python3"
  },
  "language_info": {
   "codemirror_mode": {
    "name": "ipython",
    "version": 3
   },
   "file_extension": ".py",
   "mimetype": "text/x-python",
   "name": "python",
   "nbconvert_exporter": "python",
   "pygments_lexer": "ipython3",
   "version": "3.9.4"
  }
 },
 "nbformat": 4,
 "nbformat_minor": 2
}
