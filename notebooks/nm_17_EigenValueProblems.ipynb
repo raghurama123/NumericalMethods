{
 "cells": [
  {
   "cell_type": "markdown",
   "id": "2791c723",
   "metadata": {},
   "source": [
    "# Content:\n",
    "1. [Numpy eigen](#numpy)\n",
    "2. [Power method](#power)\n",
    "3. [3x3 example](#3x3)\n",
    "4. [Jacobi method](#jacobi)"
   ]
  },
  {
   "cell_type": "markdown",
   "id": "bae91b7c",
   "metadata": {},
   "source": [
    "## 1. <a name=\"eigen\">Numpy eigen</a>"
   ]
  },
  {
   "cell_type": "code",
   "execution_count": 1,
   "id": "ce7080bc",
   "metadata": {},
   "outputs": [],
   "source": [
    "import numpy as np"
   ]
  },
  {
   "cell_type": "code",
   "execution_count": 2,
   "id": "70e68091",
   "metadata": {},
   "outputs": [
    {
     "name": "stdout",
     "output_type": "stream",
     "text": [
      "[[1 2]\n",
      " [2 4]]\n"
     ]
    }
   ],
   "source": [
    "A=np.array([[1,2],[2,4]])\n",
    "print(A)"
   ]
  },
  {
   "cell_type": "code",
   "execution_count": 3,
   "id": "6f3bff71",
   "metadata": {},
   "outputs": [
    {
     "name": "stdout",
     "output_type": "stream",
     "text": [
      "Eigenvalues\n",
      "[0. 5.]\n",
      "\n",
      "\n",
      "Eigenvectors\n",
      "[[-0.89442719 -0.4472136 ]\n",
      " [ 0.4472136  -0.89442719]]\n"
     ]
    }
   ],
   "source": [
    "E,V=np.linalg.eig(A)\n",
    "print('Eigenvalues')\n",
    "print(E)\n",
    "print('\\n')\n",
    "print('Eigenvectors')\n",
    "print(V)"
   ]
  },
  {
   "cell_type": "markdown",
   "id": "cf269166",
   "metadata": {},
   "source": [
    "## 2. <a name=\"power\">Power method</a>"
   ]
  },
  {
   "cell_type": "code",
   "execution_count": 4,
   "id": "60b5e440",
   "metadata": {},
   "outputs": [],
   "source": [
    "import numpy as np\n",
    "\n",
    "def power_method(A,max_iter):\n",
    "    \n",
    "    #No. of rows\n",
    "    N=A.shape[1] \n",
    "    \n",
    "    x=np.random.rand(N)\n",
    "    print(x)\n",
    "    \n",
    "    for i_iter in range(max_iter):\n",
    "        \n",
    "        x=np.dot(A,x)\n",
    "        \n",
    "        x_norm=np.linalg.norm(x)\n",
    "        \n",
    "        x=x/x_norm\n",
    "        print(x)\n",
    "    \n",
    "    return(x)"
   ]
  },
  {
   "cell_type": "code",
   "execution_count": 5,
   "id": "8605738e",
   "metadata": {},
   "outputs": [
    {
     "name": "stdout",
     "output_type": "stream",
     "text": [
      "[0.2470949  0.26614184]\n",
      "[0.4472136  0.89442719]\n",
      "[0.4472136  0.89442719]\n",
      "[0.4472136  0.89442719]\n",
      "[0.4472136  0.89442719]\n",
      "[0.4472136  0.89442719]\n",
      "[0.4472136  0.89442719]\n",
      "[0.4472136  0.89442719]\n",
      "[0.4472136  0.89442719]\n",
      "[0.4472136  0.89442719]\n",
      "[0.4472136  0.89442719]\n"
     ]
    }
   ],
   "source": [
    "x=power_method(A,10)"
   ]
  },
  {
   "cell_type": "code",
   "execution_count": 6,
   "id": "cef16482",
   "metadata": {},
   "outputs": [
    {
     "name": "stdout",
     "output_type": "stream",
     "text": [
      "5.000000000000001\n"
     ]
    }
   ],
   "source": [
    "#largest eigenvalue\n",
    "E=np.dot(x,np.dot(A,x))\n",
    "print(E)"
   ]
  },
  {
   "cell_type": "markdown",
   "id": "542f3d90",
   "metadata": {},
   "source": [
    "## 3. <a name=\"jacobi\">Jacobi method</a>"
   ]
  },
  {
   "cell_type": "code",
   "execution_count": 7,
   "id": "a9bd4503",
   "metadata": {},
   "outputs": [
    {
     "name": "stdout",
     "output_type": "stream",
     "text": [
      "[[1 2]\n",
      " [2 4]]\n"
     ]
    }
   ],
   "source": [
    "A=np.array([[1,2],[2,4]])\n",
    "print(A)"
   ]
  },
  {
   "cell_type": "code",
   "execution_count": 8,
   "id": "0664de5f",
   "metadata": {},
   "outputs": [],
   "source": [
    "th=(1.0/2.0)*np.arctan((2*A[0,1])/(A[0,0]-A[1,1]))"
   ]
  },
  {
   "cell_type": "code",
   "execution_count": 9,
   "id": "f0f21d06",
   "metadata": {},
   "outputs": [],
   "source": [
    "V=np.array([[np.cos(th),np.sin(th)],[np.sin(th),-np.cos(th)]])"
   ]
  },
  {
   "cell_type": "code",
   "execution_count": 10,
   "id": "02f39b9f",
   "metadata": {},
   "outputs": [
    {
     "name": "stdout",
     "output_type": "stream",
     "text": [
      "[[0.00000000e+00 4.53932125e-17]\n",
      " [0.00000000e+00 5.00000000e+00]]\n"
     ]
    }
   ],
   "source": [
    "Vt=np.transpose(V)\n",
    "E=np.matmul(Vt,np.matmul(A,V))\n",
    "print(E)"
   ]
  },
  {
   "cell_type": "code",
   "execution_count": 11,
   "id": "f73278a4",
   "metadata": {},
   "outputs": [
    {
     "name": "stdout",
     "output_type": "stream",
     "text": [
      "[[ 0.89442719 -0.4472136 ]\n",
      " [-0.4472136  -0.89442719]]\n"
     ]
    }
   ],
   "source": [
    "print(V)"
   ]
  },
  {
   "cell_type": "markdown",
   "id": "d06f8237",
   "metadata": {},
   "source": [
    "## 4. <a name=\"3x3\">3x3 example</a>"
   ]
  },
  {
   "cell_type": "code",
   "execution_count": 12,
   "id": "a9c214e4",
   "metadata": {},
   "outputs": [
    {
     "name": "stdout",
     "output_type": "stream",
     "text": [
      "[[1 2 3]\n",
      " [2 4 5]\n",
      " [3 5 6]]\n",
      "Eigenvalues\n",
      "[11.34481428 -0.51572947  0.17091519]\n",
      "\n",
      "\n",
      "Eigenvectors\n",
      "[[-0.32798528 -0.73697623  0.59100905]\n",
      " [-0.59100905 -0.32798528 -0.73697623]\n",
      " [-0.73697623  0.59100905  0.32798528]]\n"
     ]
    }
   ],
   "source": [
    "A=np.array([[1,2,3],[2,4,5],[3,5,6]])\n",
    "print(A)\n",
    "E,V=np.linalg.eig(A)\n",
    "print('Eigenvalues')\n",
    "print(E)\n",
    "print('\\n')\n",
    "print('Eigenvectors')\n",
    "print(V)"
   ]
  },
  {
   "cell_type": "markdown",
   "id": "0a0ef5d4",
   "metadata": {},
   "source": [
    "#### Power method"
   ]
  },
  {
   "cell_type": "code",
   "execution_count": 13,
   "id": "4cda8465",
   "metadata": {},
   "outputs": [
    {
     "name": "stdout",
     "output_type": "stream",
     "text": [
      "[0.88615945 0.31907561 0.86713356]\n",
      "[0.32517423 0.58200401 0.7453409 ]\n",
      "[0.32838798 0.59107192 0.73674644]\n",
      "[0.32797113 0.591001   0.73698898]\n",
      "[0.32798598 0.59100934 0.73697568]\n",
      "[0.32798525 0.59100903 0.73697625]\n",
      "[0.32798528 0.59100905 0.73697623]\n",
      "[0.32798528 0.59100905 0.73697623]\n",
      "[0.32798528 0.59100905 0.73697623]\n",
      "[0.32798528 0.59100905 0.73697623]\n",
      "[0.32798528 0.59100905 0.73697623]\n"
     ]
    }
   ],
   "source": [
    "x=power_method(A,10)"
   ]
  },
  {
   "cell_type": "code",
   "execution_count": 14,
   "id": "89f75670",
   "metadata": {},
   "outputs": [
    {
     "name": "stdout",
     "output_type": "stream",
     "text": [
      "11.34481428276208\n"
     ]
    }
   ],
   "source": [
    "E=np.dot(x,np.dot(A,x))\n",
    "print(E)"
   ]
  },
  {
   "cell_type": "markdown",
   "id": "a9c1f688",
   "metadata": {},
   "source": [
    "#### Jacobi method"
   ]
  },
  {
   "cell_type": "code",
   "execution_count": 15,
   "id": "c797d8d0",
   "metadata": {},
   "outputs": [
    {
     "name": "stdout",
     "output_type": "stream",
     "text": [
      "[[1 2 3]\n",
      " [2 4 5]\n",
      " [3 5 6]]\n"
     ]
    }
   ],
   "source": [
    "print(A)"
   ]
  },
  {
   "cell_type": "markdown",
   "id": "19f4ca7a",
   "metadata": {},
   "source": [
    "##### Iteration-1"
   ]
  },
  {
   "cell_type": "code",
   "execution_count": 16,
   "id": "af99518d",
   "metadata": {},
   "outputs": [],
   "source": [
    "i=1\n",
    "j=2\n",
    "th=(1.0/2.0)*np.arctan((2*A[i,j])/(A[i,i]-A[j,j]))"
   ]
  },
  {
   "cell_type": "code",
   "execution_count": 17,
   "id": "efcf75fb",
   "metadata": {},
   "outputs": [
    {
     "name": "stdout",
     "output_type": "stream",
     "text": [
      "[[ 1.          0.          0.        ]\n",
      " [ 0.          0.77334214 -0.63398891]\n",
      " [ 0.         -0.63398891 -0.77334214]]\n"
     ]
    }
   ],
   "source": [
    "V=np.identity(3)\n",
    "V[i,i]=+np.cos(th)\n",
    "V[i,j]=+np.sin(th)\n",
    "V[j,i]=+np.sin(th)\n",
    "V[j,j]=-np.cos(th)\n",
    "print(V)"
   ]
  },
  {
   "cell_type": "code",
   "execution_count": 18,
   "id": "aa59da80",
   "metadata": {},
   "outputs": [
    {
     "name": "stdout",
     "output_type": "stream",
     "text": [
      "[[ 1.00000000e+00 -3.55282434e-01 -3.58800424e+00]\n",
      " [-3.55282434e-01 -9.90195136e-02  2.15144758e-16]\n",
      " [-3.58800424e+00  6.20717275e-16  1.00990195e+01]]\n"
     ]
    }
   ],
   "source": [
    "Vt=np.transpose(V)\n",
    "Anew=np.matmul(Vt,np.matmul(A,V))\n",
    "print(Anew)"
   ]
  },
  {
   "cell_type": "markdown",
   "id": "ec4f25bc",
   "metadata": {},
   "source": [
    "##### Iteration-2"
   ]
  },
  {
   "cell_type": "code",
   "execution_count": 19,
   "id": "3800ff5b",
   "metadata": {},
   "outputs": [
    {
     "name": "stdout",
     "output_type": "stream",
     "text": [
      "[[ 0.90558942  0.         -0.4241554 ]\n",
      " [ 0.          1.          0.        ]\n",
      " [-0.4241554   0.         -0.90558942]] \n",
      "\n",
      "[[ 5.39336579 -0.32174001  5.79201454]\n",
      " [-0.32174001 -0.09901951  0.15069496]\n",
      " [ 5.79201454  0.15069496  5.70565372]]\n"
     ]
    }
   ],
   "source": [
    "i=0\n",
    "j=2\n",
    "th=(1.0/2.0)*np.arctan((2*A[i,j])/(A[i,i]-A[j,j]))\n",
    "#======\n",
    "V=np.identity(3)\n",
    "V[i,i]=+np.cos(th)\n",
    "V[i,j]=+np.sin(th)\n",
    "V[j,i]=+np.sin(th)\n",
    "V[j,j]=-np.cos(th)\n",
    "print(V,'\\n')\n",
    "#=====\n",
    "Vt=np.transpose(V)\n",
    "Anew=np.matmul(Vt,np.matmul(Anew,V))\n",
    "print(Anew)"
   ]
  }
 ],
 "metadata": {
  "kernelspec": {
   "display_name": "Python 3",
   "language": "python",
   "name": "python3"
  },
  "language_info": {
   "codemirror_mode": {
    "name": "ipython",
    "version": 3
   },
   "file_extension": ".py",
   "mimetype": "text/x-python",
   "name": "python",
   "nbconvert_exporter": "python",
   "pygments_lexer": "ipython3",
   "version": "3.9.4"
  }
 },
 "nbformat": 4,
 "nbformat_minor": 5
}
