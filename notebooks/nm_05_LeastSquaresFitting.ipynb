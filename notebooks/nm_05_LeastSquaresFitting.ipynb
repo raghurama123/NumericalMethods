{
 "cells": [
  {
   "cell_type": "markdown",
   "metadata": {},
   "source": [
    "# Content:\n",
    "1. [Data modeling](#1.-Data-modeling)\n",
    "2. [Matrix inverse](#2.-Matrix-inverse)\n",
    "3. [Vandermonde matrix](#3.-Vandermonde-matrix)\n",
    "4. [Polynomial fitting](#4.-Polynomial-fitting)\n",
    "5. [Goodness of a fit: Error metrics](#5.-Goodness-of-a-fit:-Error-metrics)\n",
    "6. [Weighted least squares](#6.-Weighted-least-squares)\n",
    "7. [Multiple least squares: Higher dimensional fit](#7.-Multiple-least-squares:-Higher-dimensional-fit)"
   ]
  },
  {
   "cell_type": "markdown",
   "metadata": {},
   "source": [
    "## 1. Data modeling"
   ]
  },
  {
   "cell_type": "markdown",
   "metadata": {},
   "source": [
    "![board%20work%20-19.jpg](boardwork/board%20work%20-19.jpg)\n",
    "![board%20work%20-20.jpg](boardwork/board%20work%20-20.jpg)\n",
    "![board%20work%20-21.jpg](boardwork/board%20work%20-21.jpg)\n",
    "![board%20work%20-22.jpg](boardwork/board%20work%20-22.jpg)\n",
    "![board%20work%20-23.jpg](boardwork/board%20work%20-23.jpg)\n",
    "![board%20work%20-24.jpg](boardwork/board%20work%20-24.jpg)"
   ]
  },
  {
   "cell_type": "markdown",
   "metadata": {},
   "source": [
    "## 2. Matrix inverse"
   ]
  },
  {
   "cell_type": "markdown",
   "metadata": {},
   "source": [
    "Let's use Numpy's implementation to determine the matrix inverse. You can check if the inverse has come out as expected by multiplying with the given matrix. "
   ]
  },
  {
   "cell_type": "code",
   "execution_count": 1,
   "metadata": {},
   "outputs": [
    {
     "name": "stdout",
     "output_type": "stream",
     "text": [
      "[[1 2]\n",
      " [3 4]] \n",
      "\n",
      "[[-2.   1. ]\n",
      " [ 1.5 -0.5]] \n",
      "\n",
      "[[  1.00000000e+00   1.11022302e-16]\n",
      " [  0.00000000e+00   1.00000000e+00]]\n"
     ]
    }
   ],
   "source": [
    "import numpy as np \n",
    "\n",
    "A = np.array([[1,2],[3,4]]) \n",
    "Ainv = np.linalg.inv(A)\n",
    "\n",
    "print(A,'\\n') \n",
    "print(Ainv,'\\n')\n",
    "I=np.dot(A,Ainv)\n",
    "print(I)"
   ]
  },
  {
   "cell_type": "markdown",
   "metadata": {},
   "source": [
    "## 3. Vandermonde matrix"
   ]
  },
  {
   "cell_type": "markdown",
   "metadata": {},
   "source": [
    "Numpy has a function to calculate the Vandermonde matrix. "
   ]
  },
  {
   "cell_type": "code",
   "execution_count": 2,
   "metadata": {},
   "outputs": [
    {
     "data": {
      "text/plain": [
       "array([[  1,   1,   1,   1],\n",
       "       [  1,   2,   4,   8],\n",
       "       [  1,   3,   9,  27],\n",
       "       [  1,   5,  25, 125]])"
      ]
     },
     "execution_count": 2,
     "metadata": {},
     "output_type": "execute_result"
    }
   ],
   "source": [
    "import numpy as np \n",
    "\n",
    "x = np.array([1, 2, 3, 5])\n",
    "\n",
    "# To fit a straight-line, polynomial of degree 1\n",
    "D=3\n",
    "\n",
    "np.vander(x, D+1, increasing=True) #NOTE: argument is D+1"
   ]
  },
  {
   "cell_type": "code",
   "execution_count": 3,
   "metadata": {},
   "outputs": [
    {
     "data": {
      "text/plain": [
       "array([[  1,   1,   1,   1],\n",
       "       [  8,   4,   2,   1],\n",
       "       [ 27,   9,   3,   1],\n",
       "       [125,  25,   5,   1]])"
      ]
     },
     "execution_count": 3,
     "metadata": {},
     "output_type": "execute_result"
    }
   ],
   "source": [
    "D=3\n",
    "np.vander(x, D+1) #Note the order"
   ]
  },
  {
   "cell_type": "code",
   "execution_count": 4,
   "metadata": {},
   "outputs": [
    {
     "data": {
      "text/plain": [
       "array([[  1,   1,   1,   1,   1],\n",
       "       [  1,   2,   4,   8,  16],\n",
       "       [  1,   3,   9,  27,  81],\n",
       "       [  1,   5,  25, 125, 625]])"
      ]
     },
     "execution_count": 4,
     "metadata": {},
     "output_type": "execute_result"
    }
   ],
   "source": [
    "D=4\n",
    "np.vander(x, D+1, increasing=True)"
   ]
  },
  {
   "cell_type": "markdown",
   "metadata": {},
   "source": [
    "## 4. Polynomial fitting"
   ]
  },
  {
   "cell_type": "code",
   "execution_count": 5,
   "metadata": {},
   "outputs": [
    {
     "name": "stdout",
     "output_type": "stream",
     "text": [
      "[-2.  -1.5 -1.  -0.5  0.   0.5  1.   1.5  2. ]\n",
      "0 4.4408920985e-16\n",
      "1 -2.03104773304e-16\n",
      "2 -0.4\n",
      "3 5.88131613494e-17\n"
     ]
    }
   ],
   "source": [
    "def polyfit(x,y,D):\n",
    "    '''\n",
    "        Fits a given set of data x,y to a polynomial of degree D\n",
    "    '''\n",
    "    import numpy as np \n",
    "    \n",
    "    #N=x.shape()\n",
    "    \n",
    "    X=np.vander(x, D+1, increasing=True)\n",
    "    XT=np.transpose(X)\n",
    "    \n",
    "    A=np.matmul(XT,X)\n",
    "    Ainv=np.linalg.inv(A)\n",
    "    \n",
    "    b=np.matmul(XT,y)\n",
    "    \n",
    "    a=np.matmul(Ainv,b)\n",
    "    \n",
    "    return(a)\n",
    "\n",
    "#=== Let's fit a data from a parabola to a polynomial of degree 'D'\n",
    "\n",
    "x_i=-2.0\n",
    "x_f=2.0\n",
    "dx=0.5\n",
    "x=np.arange(x_i, x_f+dx, dx, float) # start, stop, step, dtype\n",
    "\n",
    "print(x)\n",
    "\n",
    "y=-0.4*x**2\n",
    "\n",
    "D=3  # Degree = 3\n",
    "a=polyfit(x,y,D)\n",
    "\n",
    "for i in range(D+1):\n",
    "    print(i,a[i])"
   ]
  },
  {
   "cell_type": "markdown",
   "metadata": {},
   "source": [
    "Only the quadratic term survives, all other coefficients are zero!"
   ]
  },
  {
   "cell_type": "markdown",
   "metadata": {},
   "source": [
    "To evaluate the polynomial, i.e., the estimated values of y, one can write another function, called polyval."
   ]
  },
  {
   "cell_type": "code",
   "execution_count": 6,
   "metadata": {},
   "outputs": [
    {
     "name": "stdout",
     "output_type": "stream",
     "text": [
      "[ -1.60000000e+00  -9.00000000e-01  -4.00000000e-01  -1.00000000e-01\n",
      "   4.44089210e-16  -1.00000000e-01  -4.00000000e-01  -9.00000000e-01\n",
      "  -1.60000000e+00]\n"
     ]
    }
   ],
   "source": [
    "def polyval(a,x):\n",
    "    '''\n",
    "        Determines the value of the polynomial using x and the coefficient vector a\n",
    "    '''\n",
    "    import numpy as np\n",
    "    D=a.shape[0]\n",
    "    N=x.shape\n",
    "\n",
    "    y=np.zeros(N)\n",
    "    for i in range(D):\n",
    "        y=y+a[i]*x**i\n",
    "    \n",
    "    return(y)\n",
    "\n",
    "yfit=polyval(a,x)\n",
    "print(yfit)"
   ]
  },
  {
   "cell_type": "markdown",
   "metadata": {
    "collapsed": true
   },
   "source": [
    "## 5. Goodness of a fit: Error metrics "
   ]
  },
  {
   "cell_type": "code",
   "execution_count": 7,
   "metadata": {},
   "outputs": [
    {
     "name": "stdout",
     "output_type": "stream",
     "text": [
      "#    i      a_i\n",
      "     0     3.68735902\n",
      "     1     4.23907769\n",
      "     2     1.63518064\n",
      "     3    -0.36808270\n",
      "#    i      x_i           y_i             y_i (fit)      error          |error|\n",
      "     0     0.23000000     5.64000000     4.74436948     0.89563052     0.89563052\n",
      "     1     1.01000000     7.83000000     9.25763929    -1.42763929     1.42763929\n",
      "     2     2.29000000    17.04000000    17.54959667    -0.50959667     0.50959667\n",
      "     3     2.87000000    21.38000000    20.62089216     0.75910784     0.75910784\n",
      "     4     4.15000000    24.56000000    23.13331744     1.42668256     1.42668256\n",
      "     5     5.36000000    16.21000000    16.70560536    -0.49560536     0.49560536\n",
      "     6     5.51000000    14.57000000    15.11452357    -0.54452357     0.54452357\n",
      "     7     6.36000000     0.78000000     2.09754188    -1.31754188     1.31754188\n",
      "     8     6.84000000    -7.64000000    -8.60587544     0.96587544     0.96587544\n",
      "     9     7.00000000   -12.52000000   -12.76761041     0.24761041     0.24761041\n"
     ]
    }
   ],
   "source": [
    "import numpy as np\n",
    "\n",
    "#=== Read the data from a file\n",
    "myfile=open('data/fit_01.csv','r')\n",
    "\n",
    "x=np.array([])\n",
    "y=np.array([])\n",
    "\n",
    "iline=0\n",
    "for line in myfile:\n",
    "    if iline > 0:            # i == 0 corresponds to the heading\n",
    "        str=line.split(',')  # csv, comma separated values\n",
    "        valx=eval(str[0])\n",
    "        valy=eval(str[1])\n",
    "        x=np.append(x,[valx])\n",
    "        y=np.append(y,[valy])\n",
    "        \n",
    "    iline=iline+1\n",
    "myfile.close() \n",
    "    \n",
    "#=== Let's use the functions polyval and polyfit described above\n",
    "\n",
    "D=3\n",
    "N=x.shape[0]\n",
    "\n",
    "print('#    i','     a_i')\n",
    "a=polyfit(x,y,D)\n",
    "for i in range(D+1):\n",
    "    print('{:6d}{:15.8f}'.format(i,a[i]))\n",
    "\n",
    "yfit=polyval(a,x)\n",
    "\n",
    "err=y-yfit\n",
    "abs_err = np.abs(y-yfit)\n",
    "\n",
    "print('#    i','     x_i           y_i             y_i (fit)      error          |error|')\n",
    "for i in range(N):\n",
    "    print('{:6d}{:15.8f}{:15.8f}{:15.8f}{:15.8f}{:15.8f}'.format(i,x[i],y[i],yfit[i],err[i],abs_err[i]))"
   ]
  },
  {
   "cell_type": "code",
   "execution_count": 8,
   "metadata": {},
   "outputs": [
    {
     "name": "stdout",
     "output_type": "stream",
     "text": [
      "Mean absolute error:  0.858981351628\n",
      "Standard deviation:  0.947836379168\n",
      "Standard deviation using numpy:  0.947836379168\n",
      "No. of data points, N:  10\n",
      "Degree of the polynomial, D:  3\n",
      "Standard deviation of polynomial fit [safe upper bound]:  1.22365150382\n"
     ]
    }
   ],
   "source": [
    "#Mean absolute error\n",
    "mae=np.mean(abs_err)\n",
    "print(\"Mean absolute error: \", mae)\n",
    "\n",
    "# Centralized error\n",
    "cerr=err-np.mean(err)\n",
    "var=np.mean(cerr**2)\n",
    "std=np.sqrt(var)\n",
    "print(\"Standard deviation: \", std)\n",
    "\n",
    "# Standard deviation\n",
    "std=np.std(err)\n",
    "print(\"Standard deviation using numpy: \", std)\n",
    "\n",
    "print('No. of data points, N: ', N)\n",
    "print('Degree of the polynomial, D: ', D)\n",
    "\n",
    "var=np.sum(cerr**2)/(N-D-1.0)\n",
    "std=np.sqrt(var)\n",
    "print(\"Standard deviation of polynomial fit [safe upper bound]: \", std)"
   ]
  },
  {
   "cell_type": "code",
   "execution_count": 9,
   "metadata": {},
   "outputs": [
    {
     "name": "stdout",
     "output_type": "stream",
     "text": [
      "0.996698401163\n"
     ]
    }
   ],
   "source": [
    "my_rho = np.corrcoef(y, yfit)[0,1]\n",
    "print(my_rho)"
   ]
  },
  {
   "cell_type": "code",
   "execution_count": 14,
   "metadata": {},
   "outputs": [
    {
     "data": {
      "image/png": "[encoded data removed]",
      "text/plain": [
       "<matplotlib.figure.Figure at 0x7f8db4efc5f8>"
      ]
     },
     "metadata": {},
     "output_type": "display_data"
    }
   ],
   "source": [
    "import numpy as np\n",
    "import matplotlib.pyplot as plt\n",
    "\n",
    "#plt.plot(x,y,'o',color='r',linewidth=1,label='y$^{exact}$')\n",
    "fig = plt.figure()                        # comment if square plot is not needed\n",
    "ax = fig.add_subplot(111)                 # comment if square plot is not needed\n",
    "plt.plot(y,yfit,'x',color='b',linewidth=1)\n",
    "ax.set_aspect('equal', adjustable='box')  # comment if square plot is not needed\n",
    "plt.plot(y,y,'-',color='k',linewidth=1)\n",
    "\n",
    "\n",
    "plt.text(10,-5, r'$\\rho=$ {0:5.3f}'.format(my_rho), fontsize=10)\n",
    "\n",
    "plt.legend()\n",
    "\n",
    "plt.xlabel(\"y$^{exact}$\")\n",
    "plt.ylabel(\"y$^{fitted}$\")\n",
    "plt.title('Scatterplot')\n",
    "\n",
    "#plt.savefig('test.png')  \n",
    "\n",
    "#=== display\n",
    "plt.show()"
   ]
  },
  {
   "cell_type": "code",
   "execution_count": 11,
   "metadata": {},
   "outputs": [
    {
     "data": {
      "image/png": "[encoded data removed]",
      "text/plain": [
       "<matplotlib.figure.Figure at 0x7f8db4eda1d0>"
      ]
     },
     "metadata": {},
     "output_type": "display_data"
    }
   ],
   "source": [
    "import numpy as np\n",
    "import matplotlib.pyplot as plt\n",
    "\n",
    "plt.plot(x,y,'o',color='r',linewidth=1,label='y$^{exact}$')\n",
    "plt.plot(x,yfit,'x',color='b',linewidth=1)\n",
    "\n",
    "x_min=0.0\n",
    "x_max=7.0\n",
    "x_grids=51\n",
    "xgrids=np.linspace(x_min, x_max, x_grids)\n",
    "ygridsfit=polyval(a,xgrids)\n",
    "\n",
    "plt.plot(xgrids,ygridsfit,'-',color='b',linewidth=1,label='y$^{fitted}$')\n",
    "\n",
    "plt.legend()\n",
    "\n",
    "plt.xlabel(\"x\")\n",
    "plt.ylabel(\"y\")\n",
    "plt.title('Polynomial fitting')\n",
    "\n",
    "#plt.savefig('test.png')  \n",
    "\n",
    "#=== display\n",
    "plt.show()"
   ]
  },
  {
   "cell_type": "markdown",
   "metadata": {},
   "source": [
    "---\n",
    "Homework-10: Use the data given in 'data/fit_01.csv' and perform least-squares regression using polynomials of degrees D=1,2,3,..,8. For each case, calculate the standard deviation for the polynomial fit. Comment on the polynomial which gives the lowest standard deviation.\n",
    "\n",
    "---"
   ]
  },
  {
   "cell_type": "markdown",
   "metadata": {},
   "source": [
    "## 6. Weighted least squares "
   ]
  },
  {
   "cell_type": "markdown",
   "metadata": {},
   "source": [
    "![board%20work%20-25.jpg](boardwork/board%20work%20-25.jpg)\n",
    "![board%20work%20-26.jpg](boardwork/board%20work%20-26.jpg)"
   ]
  },
  {
   "cell_type": "markdown",
   "metadata": {},
   "source": [
    "---\n",
    "Homework-11: Use the data given in 'data/fit_02.csv' and perform weighted least-squares regression using a polynomials of degrees D=3. Column three of the file contains the standard deviation of each measured value of 'y'.\n",
    "\n",
    "---"
   ]
  },
  {
   "cell_type": "markdown",
   "metadata": {},
   "source": [
    "## 7. Multiple least squares: Higher dimensional fit "
   ]
  },
  {
   "cell_type": "markdown",
   "metadata": {},
   "source": [
    "![board%20work%20-27.jpg](boardwork/board%20work%20-27.jpg)"
   ]
  },
  {
   "cell_type": "code",
   "execution_count": null,
   "metadata": {
    "collapsed": true
   },
   "outputs": [],
   "source": []
  }
 ],
 "metadata": {
  "kernelspec": {
   "display_name": "Python 3",
   "language": "python",
   "name": "python3"
  },
  "language_info": {
   "codemirror_mode": {
    "name": "ipython",
    "version": 3
   },
   "file_extension": ".py",
   "mimetype": "text/x-python",
   "name": "python",
   "nbconvert_exporter": "python",
   "pygments_lexer": "ipython3",
   "version": "3.9.4"
  }
 },
 "nbformat": 4,
 "nbformat_minor": 2
}
