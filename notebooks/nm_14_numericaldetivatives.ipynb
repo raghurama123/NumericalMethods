{
 "cells": [
  {
   "cell_type": "markdown",
   "id": "dd7105b8",
   "metadata": {},
   "source": [
    "# Content:\n",
    "1. [Derivation of finite-difference formulae using Taylor polynomial](#taylor)\n",
    "2. [Three-point central-difference formula](#threepoint)  \n",
    "3. [Higher-order central-difference formulae](#higher)\n",
    "4. [Estimating errors](#errors)  "
   ]
  },
  {
   "cell_type": "markdown",
   "id": "00c4198d",
   "metadata": {},
   "source": [
    "## 1. <a name=\"taylor\">Derivation of finite-difference formulae using Taylor polynomial</a>"
   ]
  },
  {
   "cell_type": "markdown",
   "id": "5237fb59",
   "metadata": {},
   "source": [
    "![../board%20work%20-96.jpg](../boardwork/board%20work%20-96.jpg)\n",
    "![../board%20work%20-97.jpg](../boardwork/board%20work%20-97.jpg)\n",
    "![../board%20work%20-98.jpg](../boardwork/board%20work%20-98.jpg)"
   ]
  },
  {
   "cell_type": "markdown",
   "id": "8a5677fc",
   "metadata": {},
   "source": [
    "## 2. <a name=\"threepoint\">Three-point central-difference formula</a>"
   ]
  },
  {
   "cell_type": "markdown",
   "id": "a06cb87a",
   "metadata": {},
   "source": [
    "![../board%20work%20-99.jpg](../boardwork/board%20work%20-99.jpg)"
   ]
  },
  {
   "cell_type": "markdown",
   "id": "9f1de68b",
   "metadata": {},
   "source": [
    "## 3. <a name=\"higher\">Higher-order central-difference formulae</a>"
   ]
  },
  {
   "cell_type": "markdown",
   "id": "71622f9d",
   "metadata": {},
   "source": [
    "![../board%20work%20-102.jpg](../boardwork/board%20work%20-102.jpg)"
   ]
  },
  {
   "cell_type": "markdown",
   "id": "e2db2940",
   "metadata": {},
   "source": [
    "## 4. <a name=\"errors\">Estimating errors</a>"
   ]
  },
  {
   "cell_type": "markdown",
   "id": "e3b324de",
   "metadata": {},
   "source": [
    "![../board%20work%20-100.jpg](../boardwork/board%20work%20-100.jpg)\n",
    "![../board%20work%20-101.jpg](../boardwork/board%20work%20-101.jpg)"
   ]
  }
 ],
 "metadata": {
  "kernelspec": {
   "display_name": "Python 3",
   "language": "python",
   "name": "python3"
  },
  "language_info": {
   "codemirror_mode": {
    "name": "ipython",
    "version": 3
   },
   "file_extension": ".py",
   "mimetype": "text/x-python",
   "name": "python",
   "nbconvert_exporter": "python",
   "pygments_lexer": "ipython3",
   "version": "3.9.4"
  }
 },
 "nbformat": 4,
 "nbformat_minor": 5
}
