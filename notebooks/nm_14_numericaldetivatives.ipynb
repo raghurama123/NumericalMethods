{
 "cells": [
  {
   "cell_type": "markdown",
   "id": "ff0770da",
   "metadata": {},
   "source": [
    "# Content:\n",
    "1. [Derivation of finite-difference formulae using Taylor polynomial](#taylor)"
   ]
  },
  {
   "cell_type": "markdown",
   "id": "6a3a2f75",
   "metadata": {},
   "source": [
    "## 1. <a name=\"taylor\">Derivation of finite-difference formulae using Taylor polynomial</a>"
   ]
  },
  {
   "cell_type": "markdown",
   "id": "01bed23b",
   "metadata": {},
   "source": [
    "![../board%20work%20-96.jpg](../boardwork/board%20work%20-96.jpg)\n",
    "![../board%20work%20-97.jpg](../boardwork/board%20work%20-97.jpg)\n",
    "![../board%20work%20-98.jpg](../boardwork/board%20work%20-98.jpg)\n",
    "![../board%20work%20-99.jpg](../boardwork/board%20work%20-99.jpg)\n",
    "![../board%20work%20-100.jpg](../boardwork/board%20work%20-100.jpg)\n",
    "![../board%20work%20-101.jpg](../boardwork/board%20work%20-101.jpg)"
   ]
  },
  {
   "cell_type": "code",
   "execution_count": null,
   "id": "833ee9a3",
   "metadata": {},
   "outputs": [],
   "source": []
  }
 ],
 "metadata": {
  "kernelspec": {
   "display_name": "Python 3",
   "language": "python",
   "name": "python3"
  },
  "language_info": {
   "codemirror_mode": {
    "name": "ipython",
    "version": 3
   },
   "file_extension": ".py",
   "mimetype": "text/x-python",
   "name": "python",
   "nbconvert_exporter": "python",
   "pygments_lexer": "ipython3",
   "version": "3.9.4"
  }
 },
 "nbformat": 4,
 "nbformat_minor": 5
}
