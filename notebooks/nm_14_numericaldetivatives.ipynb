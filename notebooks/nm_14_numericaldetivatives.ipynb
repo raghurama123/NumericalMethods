{
 "cells": [
  {
   "cell_type": "markdown",
   "id": "5a262852",
   "metadata": {},
   "source": [
    "# Content:\n",
    "1. [Derivation of finite-difference formulae using Taylor polynomial](#taylor)\n",
    "2. [Three-point central-difference formula](#threepoint)  \n",
    "3. [Higher-order central-difference formulae](#higher)\n",
    "4. [Estimating errors](#errors)  \n",
    "5. [5-point formula in details](#5point)  \n",
    "6. [Finite derivative formulae using Lagrange interpolation polynomial](#lagrange)  "
   ]
  },
  {
   "cell_type": "markdown",
   "id": "0d4a862f",
   "metadata": {},
   "source": [
    "## 1. <a name=\"taylor\">Derivation of finite-difference formulae using Taylor polynomial</a>"
   ]
  },
  {
   "cell_type": "markdown",
   "id": "507106c1",
   "metadata": {},
   "source": [
    "![../board%20work%20-96.jpg](../boardwork/board%20work%20-96.jpg)\n",
    "![../board%20work%20-97.jpg](../boardwork/board%20work%20-97.jpg)\n",
    "![../board%20work%20-98.jpg](../boardwork/board%20work%20-98.jpg)"
   ]
  },
  {
   "cell_type": "markdown",
   "id": "4a50e47c",
   "metadata": {},
   "source": [
    "## 2. <a name=\"threepoint\">Three-point central-difference formula</a>"
   ]
  },
  {
   "cell_type": "markdown",
   "id": "35423c4b",
   "metadata": {},
   "source": [
    "![../board%20work%20-99.jpg](../boardwork/board%20work%20-99.jpg)"
   ]
  },
  {
   "cell_type": "markdown",
   "id": "209c9b9c",
   "metadata": {},
   "source": [
    "## 3. <a name=\"higher\">Higher-order central-difference formulae</a>"
   ]
  },
  {
   "cell_type": "markdown",
   "id": "0bff0710",
   "metadata": {},
   "source": [
    "![../board%20work%20-102.jpg](../boardwork/board%20work%20-102.jpg)"
   ]
  },
  {
   "cell_type": "markdown",
   "id": "091194a1",
   "metadata": {},
   "source": [
    "## 4. <a name=\"errors\">Estimating errors</a>"
   ]
  },
  {
   "cell_type": "markdown",
   "id": "00853357",
   "metadata": {},
   "source": [
    "![../board%20work%20-100.jpg](../boardwork/board%20work%20-100.jpg)\n",
    "![../board%20work%20-101.jpg](../boardwork/board%20work%20-101.jpg)"
   ]
  },
  {
   "cell_type": "markdown",
   "id": "ae37542a",
   "metadata": {},
   "source": [
    "## 5. <a name=\"5point\">5-point formula in details</a>"
   ]
  },
  {
   "cell_type": "markdown",
   "id": "7d4763fa",
   "metadata": {},
   "source": [
    "![../boardwork2022-111.jpg](../boardwork/boardwork2022-111.jpg)\n",
    "![../boardwork2022-112.jpg](../boardwork/boardwork2022-112.jpg)\n",
    "![../boardwork2022-113.jpg](../boardwork/boardwork2022-113.jpg)"
   ]
  },
  {
   "cell_type": "markdown",
   "id": "e5d16bc0",
   "metadata": {},
   "source": [
    "## 6. <a name=\"lagrange\">Finite derivative formulae using Lagrange interpolation polynomial</a>"
   ]
  },
  {
   "cell_type": "markdown",
   "id": "2e820d6a",
   "metadata": {},
   "source": [
    "![../board%20work%20-104.jpg](../boardwork/board%20work%20-104.jpg)\n",
    "![../board%20work%20-105.jpg](../boardwork/board%20work%20-105.jpg)"
   ]
  }
 ],
 "metadata": {
  "kernelspec": {
   "display_name": "Python 3",
   "language": "python",
   "name": "python3"
  },
  "language_info": {
   "codemirror_mode": {
    "name": "ipython",
    "version": 3
   },
   "file_extension": ".py",
   "mimetype": "text/x-python",
   "name": "python",
   "nbconvert_exporter": "python",
   "pygments_lexer": "ipython3",
   "version": "3.9.4"
  }
 },
 "nbformat": 4,
 "nbformat_minor": 5
}
