{
 "cells": [
  {
   "cell_type": "markdown",
   "metadata": {},
   "source": [
    "# Content:\n",
    "1. [Row-reduction/Elimination](#1.-Row-reduction/Elimination)\n",
    "2. [Elimination followed by substitution](#2.-Elimination-followed-by-substitution)\n",
    "    > [2.1. Elimination: Transform of A to U](#2.1.-Elimination:-Transform-of-A-to-U)    \n",
    "    > [2.2. Backward substitution (bottom to top)](#2.2.-Backward-substitution-(bottom-to-top))   \n",
    "    > [2.3. Generalizing elimination followed by substitution](#2.3.-Generalizing-elimination-followed-by-substitution)\n",
    "3. [Gaussian elimination and Cholesky decomposition](#3.-Gaussian-elimination-and-Cholesky-decomposition)\n",
    "4. [Applications](#4.-Applications)"
   ]
  },
  {
   "cell_type": "markdown",
   "metadata": {},
   "source": [
    "## 1. Row-reduction/Elimination"
   ]
  },
  {
   "cell_type": "markdown",
   "metadata": {},
   "source": [
    "In the approach, you will augment the given matrix, ${\\bf A}$, with the known vector, ${\\bf b}$. Let's denote the augmented matrix as ${\\bf A}_1=\\left[ {\\bf A} | {\\bf b} \\right]$. Now, you will perform a sequence of operations which will transform the augmented matrix into a new augmented matrix $\\left[ {\\bf I} | {\\bf x} \\right]$.\n",
    "$$\n",
    "\\left[ {\\bf A} | {\\bf b} \\right] \\rightarrow \\left[ {\\bf I} | {\\bf x} \\right]\n",
    "$$\n",
    "\n",
    "If you perform the same set of operations on an indentity matrix, you will obtain the inverse of ${\\bf A}$.\n",
    "\n",
    "$$\n",
    "\\left[ {\\bf A} | {\\bf b} | {\\bf I} \\right] \\rightarrow \\left[ {\\bf I} | {\\bf x} | {\\bf A}^{-1} \\right]\n",
    "$$"
   ]
  },
  {
   "cell_type": "markdown",
   "metadata": {},
   "source": [
    "![board%20work%20-5.jpg](../boardwork/board%20work%20-5.jpg)"
   ]
  },
  {
   "cell_type": "code",
   "execution_count": 1,
   "metadata": {},
   "outputs": [
    {
     "name": "stdout",
     "output_type": "stream",
     "text": [
      "[[0. 0. 0. 0.]\n",
      " [0. 0. 0. 0.]\n",
      " [0. 0. 0. 0.]] \n",
      "===\n",
      "\n",
      "[[ 2.  0. -1.  0.]\n",
      " [ 6.  5.  3.  0.]\n",
      " [ 2. -1.  0.  0.]] \n",
      "===\n",
      "\n",
      "The augmented matrix [A|b] is:\n",
      " [[ 2.  0. -1.  2.]\n",
      " [ 6.  5.  3.  7.]\n",
      " [ 2. -1.  0.  4.]]\n"
     ]
    }
   ],
   "source": [
    "import numpy as np\n",
    "\n",
    "A=np.array([[2,0,-1],[6,5,3],[2,-1,0]],float)\n",
    "b=np.array([2,7,4],float)\n",
    "\n",
    "#=== Augmented matrix \n",
    "A1=np.zeros([3,4])    # Declare a zero 3x4 matrix\n",
    "\n",
    "print(A1,\"\\n===\\n\")\n",
    "\n",
    "A1[0:3,0:3]=A.copy()  # Store the 'A' matrix in the first 3 columns\n",
    "print(A1,\"\\n===\\n\")\n",
    "\n",
    "A1[0:3,3]=b.copy()    # Store the 'b' vector in the 4th column\n",
    "\n",
    "print('The augmented matrix [A|b] is:\\n',A1)"
   ]
  },
  {
   "cell_type": "markdown",
   "metadata": {},
   "source": [
    "Use the first row of A1 to eliminate the 'rest' (i.e. second and third elements) of the first column of A1"
   ]
  },
  {
   "cell_type": "code",
   "execution_count": 2,
   "metadata": {},
   "outputs": [
    {
     "name": "stdout",
     "output_type": "stream",
     "text": [
      "After subtracting row-1 from row-2 and row-3:\n",
      " [[ 2.  0. -1.  2.]\n",
      " [ 0.  5.  6.  1.]\n",
      " [ 0. -1.  1.  2.]]\n"
     ]
    }
   ],
   "source": [
    "A1[1,:]=A1[1,:]-(A1[1,0]/A1[0,0])*A1[0,:]  # Transform second row\n",
    "A1[2,:]=A1[2,:]-(A1[2,0]/A1[0,0])*A1[0,:]  # Transform third row\n",
    "\n",
    "print('After subtracting row-1 from row-2 and row-3:\\n',A1)"
   ]
  },
  {
   "cell_type": "markdown",
   "metadata": {},
   "source": [
    "Use the second row of A1 to eliminate the 'rest' of the second column of A1"
   ]
  },
  {
   "cell_type": "code",
   "execution_count": 3,
   "metadata": {},
   "outputs": [
    {
     "name": "stdout",
     "output_type": "stream",
     "text": [
      "After subtracting row-2 from row-1 and row-3:\n",
      " [[ 2.   0.  -1.   2. ]\n",
      " [ 0.   5.   6.   1. ]\n",
      " [ 0.   0.   2.2  2.2]]\n"
     ]
    }
   ],
   "source": [
    "A1[0,:]=A1[0,:]-(A1[0,1]/A1[1,1])*A1[1,:] # Transform first row\n",
    "A1[2,:]=A1[2,:]-(A1[2,1]/A1[1,1])*A1[1,:] # Transform third row\n",
    "\n",
    "print('After subtracting row-2 from row-1 and row-3:\\n',A1)"
   ]
  },
  {
   "cell_type": "markdown",
   "metadata": {},
   "source": [
    "Use the third row of A1 to eliminate the 'rest' of the third column of A1"
   ]
  },
  {
   "cell_type": "code",
   "execution_count": 4,
   "metadata": {},
   "outputs": [
    {
     "name": "stdout",
     "output_type": "stream",
     "text": [
      "After subtracting row-3 from row-1 and row-2:\n",
      " [[ 2.   0.   0.   3. ]\n",
      " [ 0.   5.   0.  -5. ]\n",
      " [ 0.   0.   2.2  2.2]]\n"
     ]
    }
   ],
   "source": [
    "A1[0,:]=A1[0,:]-(A1[0,2]/A1[2,2])*A1[2,:] # Transform first row\n",
    "A1[1,:]=A1[1,:]-(A1[1,2]/A1[2,2])*A1[2,:] # Transform second row\n",
    "\n",
    "print('After subtracting row-3 from row-1 and row-2:\\n',A1)"
   ]
  },
  {
   "cell_type": "markdown",
   "metadata": {},
   "source": [
    "Now scale all the rows"
   ]
  },
  {
   "cell_type": "code",
   "execution_count": 5,
   "metadata": {},
   "outputs": [
    {
     "name": "stdout",
     "output_type": "stream",
     "text": [
      "...and finally, we have the transformed augmented matrix:\n",
      " [[ 1.   0.   0.   1.5]\n",
      " [ 0.   1.   0.  -1. ]\n",
      " [ 0.   0.   1.   1. ]]\n"
     ]
    }
   ],
   "source": [
    "A1[0,:]=A1[0,:]/A1[0,0]\n",
    "A1[1,:]=A1[1,:]/A1[1,1]\n",
    "A1[2,:]=A1[2,:]/A1[2,2]\n",
    "\n",
    "print('...and finally, we have the transformed augmented matrix:\\n',A1)"
   ]
  },
  {
   "cell_type": "markdown",
   "metadata": {},
   "source": [
    "Let's collect all the steps and make one piece of code!"
   ]
  },
  {
   "cell_type": "code",
   "execution_count": 6,
   "metadata": {},
   "outputs": [
    {
     "name": "stdout",
     "output_type": "stream",
     "text": [
      "The augmented matrix [A|b] is:\n",
      " [[ 2.  0. -1.  2.]\n",
      " [ 6.  5.  3.  7.]\n",
      " [ 2. -1.  0.  4.]]\n",
      "The augmented matrix [A|b] after row-reduction is:\n",
      " [[ 2.   0.   0.   3. ]\n",
      " [ 0.   5.   0.  -5. ]\n",
      " [ 0.   0.   2.2  2.2]]\n",
      "The solution is:\n",
      " [ 1.5 -1.   1. ]\n"
     ]
    }
   ],
   "source": [
    "import numpy as np\n",
    "\n",
    "A=np.array([[2,0,-1],[6,5,3],[2,-1,0]],float)\n",
    "b=np.array([2,7,4],float)\n",
    "\n",
    "#=== Augmented matrix\n",
    "A1=np.zeros([3,4],float)\n",
    "A1[0:3,0:3]=A.copy()\n",
    "A1[0:3,3]=b.copy()\n",
    "\n",
    "print('The augmented matrix [A|b] is:\\n',A1)\n",
    "\n",
    "# Do all steps in row-reduction listed above using loops \n",
    "for i in range(0,3):\n",
    "    for j in range(0,3):\n",
    "        if i != j:\n",
    "            A1[j,:]=A1[j,:]-(A1[j,i]/A1[i,i])*A1[i,:]\n",
    "\n",
    "print('The augmented matrix [A|b] after row-reduction is:\\n',A1)\n",
    "\n",
    "# Scale the diagonal matrix\n",
    "for i in range(0,3):\n",
    "    A1[i,:]=A1[i,:]/A1[i,i]\n",
    "\n",
    "x=np.zeros(3)\n",
    "x=A1[:,3]\n",
    "print('The solution is:\\n',x)"
   ]
  },
  {
   "cell_type": "markdown",
   "metadata": {},
   "source": [
    "## 2. Elimination followed by substitution "
   ]
  },
  {
   "cell_type": "markdown",
   "metadata": {},
   "source": [
    "![board%20work%20-7.jpg](../boardwork/board%20work%20-7.jpg)"
   ]
  },
  {
   "cell_type": "code",
   "execution_count": 7,
   "metadata": {},
   "outputs": [
    {
     "name": "stdout",
     "output_type": "stream",
     "text": [
      "The augmented matrix [A|b] is:\n",
      " [[2. 1. 1. 1.]\n",
      " [1. 2. 1. 2.]\n",
      " [1. 1. 2. 3.]]\n"
     ]
    }
   ],
   "source": [
    "import numpy as np\n",
    "\n",
    "A=np.array([[2,1,1],[1,2,1],[1,1,2]],float)\n",
    "b=np.array([1,2,3],float)\n",
    "\n",
    "#=== Augmented matrix\n",
    "A1=np.zeros([3,4],float)\n",
    "A1[0:3,0:3]=A.copy()\n",
    "A1[0:3,3]=b.copy()\n",
    "\n",
    "print('The augmented matrix [A|b] is:\\n',A1)"
   ]
  },
  {
   "cell_type": "markdown",
   "metadata": {},
   "source": [
    "### 2.1. Elimination: Transform of A to U "
   ]
  },
  {
   "cell_type": "markdown",
   "metadata": {},
   "source": [
    "Use the first row of A1 to eliminate the 'rest' of the first column of A1"
   ]
  },
  {
   "cell_type": "code",
   "execution_count": 8,
   "metadata": {},
   "outputs": [
    {
     "name": "stdout",
     "output_type": "stream",
     "text": [
      "After subtracting row-1 from row-2 and row-3:\n",
      " [[2.  1.  1.  1. ]\n",
      " [0.  1.5 0.5 1.5]\n",
      " [0.  0.5 1.5 2.5]]\n"
     ]
    }
   ],
   "source": [
    "A1[1,:]=A1[1,:]-(A1[1,0]/A1[0,0])*A1[0,:]\n",
    "A1[2,:]=A1[2,:]-(A1[2,0]/A1[0,0])*A1[0,:]\n",
    "print('After subtracting row-1 from row-2 and row-3:\\n',A1)"
   ]
  },
  {
   "cell_type": "markdown",
   "metadata": {},
   "source": [
    "Use the second row of A1 to eliminate the 'rest' of the second column of A1"
   ]
  },
  {
   "cell_type": "code",
   "execution_count": 9,
   "metadata": {},
   "outputs": [
    {
     "name": "stdout",
     "output_type": "stream",
     "text": [
      "After subtracting row-2 from row-3:\n",
      " [[2.         1.         1.         1.        ]\n",
      " [0.         1.5        0.5        1.5       ]\n",
      " [0.         0.         1.33333333 2.        ]]\n"
     ]
    }
   ],
   "source": [
    "A1[2,:]=A1[2,:]-(A1[2,1]/A1[1,1])*A1[1,:]\n",
    "print('After subtracting row-2 from row-3:\\n',A1)"
   ]
  },
  {
   "cell_type": "markdown",
   "metadata": {},
   "source": [
    "### 2.2. Backward substitution (bottom to top) "
   ]
  },
  {
   "cell_type": "code",
   "execution_count": 10,
   "metadata": {},
   "outputs": [
    {
     "name": "stdout",
     "output_type": "stream",
     "text": [
      "The U-form of matrix A is:\n",
      " [[2.         1.         1.        ]\n",
      " [0.         1.5        0.5       ]\n",
      " [0.         0.         1.33333333]]\n"
     ]
    }
   ],
   "source": [
    "U=np.zeros([3,3])\n",
    "U[0:3,0:3]=A1[0:3,0:3].copy()\n",
    "print('The U-form of matrix A is:\\n',U)"
   ]
  },
  {
   "cell_type": "code",
   "execution_count": 11,
   "metadata": {},
   "outputs": [
    {
     "name": "stdout",
     "output_type": "stream",
     "text": [
      "The modified coefficient vector is:\n",
      " [1.  1.5 2. ]\n"
     ]
    }
   ],
   "source": [
    "b=np.zeros([3])\n",
    "b[0:3]=A1[0:3,3].copy()\n",
    "print('The modified coefficient vector is:\\n',b)"
   ]
  },
  {
   "cell_type": "markdown",
   "metadata": {},
   "source": [
    "Now we have to solve the following equations.\n",
    "$$\n",
    "  2x+y+z=1 \\\\\n",
    "    1.5y+0.5z = 1.5 \\\\\n",
    "    1.33333333z=2\n",
    "$$"
   ]
  },
  {
   "cell_type": "markdown",
   "metadata": {},
   "source": [
    "Let's start by solving the last equation.\n",
    "$$\n",
    "1.33333333z=2 \\Rightarrow z = 2/1.33333333\n",
    "$$"
   ]
  },
  {
   "cell_type": "code",
   "execution_count": 12,
   "metadata": {},
   "outputs": [
    {
     "name": "stdout",
     "output_type": "stream",
     "text": [
      "[0.  0.  1.5]\n"
     ]
    }
   ],
   "source": [
    "x=np.zeros([3])\n",
    "x[2]=b[2]/U[2,2]\n",
    "print(x)"
   ]
  },
  {
   "cell_type": "markdown",
   "metadata": {},
   "source": [
    "Now let's  solve the second equation\n",
    "$$\n",
    "1.5y+0.5z = 1.5\n",
    "$$\n",
    "by substituting the value of z=1.5\n",
    "$$\n",
    "1.5y+0.5(1.5)=1.5\\\\\n",
    "\\rightarrow 1.5y+0.75 = 1.5 \\\\\n",
    "\\rightarrow 1.5y=0.75\\\\\n",
    "\\rightarrow y = 0.75/1.5 = 0.5\n",
    "$$"
   ]
  },
  {
   "cell_type": "code",
   "execution_count": 13,
   "metadata": {},
   "outputs": [
    {
     "name": "stdout",
     "output_type": "stream",
     "text": [
      "[0.  0.5 1.5]\n"
     ]
    }
   ],
   "source": [
    "x[1]=(b[1]-U[1,2]*x[2])/U[1,1]\n",
    "print(x)"
   ]
  },
  {
   "cell_type": "markdown",
   "metadata": {},
   "source": [
    "Now, the first equation\n",
    "$$\n",
    "  2x+y+z=1 \\\\\n",
    "\\rightarrow 2x+0.5+1.5=1\\\\\n",
    "\\rightarrow 2x=-1\\\\\n",
    "\\rightarrow x=-1/2\n",
    "$$"
   ]
  },
  {
   "cell_type": "code",
   "execution_count": 14,
   "metadata": {},
   "outputs": [
    {
     "name": "stdout",
     "output_type": "stream",
     "text": [
      "[-0.5  0.5  1.5]\n"
     ]
    }
   ],
   "source": [
    "x[0]=(b[0]-U[0,2]*x[1]-U[0,2]*x[2])/U[0,0]\n",
    "print(x)"
   ]
  },
  {
   "cell_type": "markdown",
   "metadata": {},
   "source": [
    "### 2.3. Generalizing elimination followed by substitution "
   ]
  },
  {
   "cell_type": "markdown",
   "metadata": {},
   "source": [
    "![board%20work%20-6.jpg](../boardwork/board%20work%20-6.jpg)\n",
    "![board%20work%20-8.jpg](../boardwork/board%20work%20-8.jpg)"
   ]
  },
  {
   "cell_type": "code",
   "execution_count": 15,
   "metadata": {},
   "outputs": [
    {
     "name": "stdout",
     "output_type": "stream",
     "text": [
      "[[2. 1. 1.]\n",
      " [1. 2. 1.]\n",
      " [1. 1. 2.]]\n",
      "\n",
      "Transformation: A -> U\n",
      "\n",
      "[[2.         1.         1.        ]\n",
      " [0.         1.5        0.5       ]\n",
      " [0.         0.         1.33333333]]\n",
      "[1.  1.5 2. ]\n",
      "\n",
      "Backward substitution to get x\n",
      "\n",
      "[-0.5  0.5  1.5]\n"
     ]
    }
   ],
   "source": [
    "import numpy as np\n",
    "\n",
    "A=np.array([[2,1,1],[1,2,1],[1,1,2]],float) #NOTE: float\n",
    "b=np.array([1,2,3],float)\n",
    "x=np.zeros(3,float)\n",
    "\n",
    "N=A.shape[0]\n",
    "\n",
    "print(A)\n",
    "\n",
    "print('\\nTransformation: A -> U\\n')\n",
    "\n",
    "for k in range(0,N-1):\n",
    "    for i in range(k+1,N):\n",
    "        lam=A[k,i]/A[k,k]\n",
    "        A[i,:]=A[i,:]-lam*A[k,:]\n",
    "        b[i]=b[i]-lam*b[k]\n",
    "\n",
    "print(A)\n",
    "\n",
    "print(b)\n",
    "\n",
    "print('\\nBackward substitution to get x\\n')\n",
    "\n",
    "x[2]=b[2]/A[2,2]\n",
    "for k in range(N-2,-1,-1):\n",
    "    x[k]=b[k]\n",
    "    for j in range(k+1,N):\n",
    "        x[k]=x[k]-A[k,j]*x[j]\n",
    "    x[k]=x[k]/A[k,k]\n",
    "\n",
    "print(x)"
   ]
  },
  {
   "cell_type": "markdown",
   "metadata": {},
   "source": [
    "## 3. Gaussian elimination and Cholesky decomposition "
   ]
  },
  {
   "cell_type": "markdown",
   "metadata": {},
   "source": [
    "![board%20work%20-10.jpg](../boardwork/board%20work%20-10.jpg)\n",
    "![board%20work%20-11.jpg](../boardwork/board%20work%20-11.jpg)\n",
    "![board%20work%20-12.jpg](../boardwork/board%20work%20-12.jpg)"
   ]
  },
  {
   "cell_type": "markdown",
   "metadata": {},
   "source": [
    "\n",
    "---\n",
    "Homework-5: Write a python function to solve a linear system of N equations with N unknowns. \n",
    "The function should perform Gaussian elimination if the matrix is not symmetric, and perform Cholesky decomposition when the matrix is symmetric.\n",
    "\n",
    "---"
   ]
  },
  {
   "cell_type": "markdown",
   "metadata": {},
   "source": [
    "## 4. Applications"
   ]
  },
  {
   "cell_type": "markdown",
   "metadata": {},
   "source": [
    "![board%20work%20-13.jpg](../boardwork/board%20work%20-13.jpg)\n",
    "![board%20work%20-14.jpg](../boardwork/board%20work%20-14.jpg)\n",
    "![board%20work%20-15.jpg](../boardwork/board%20work%20-15.jpg)\n",
    "![board%20work%20-16.jpg](../../boardwork/board%20work%20-16.jpg)\n",
    "![board%20work%20-17.jpg](../boardwork/board%20work%20-17.jpg)\n",
    "![board%20work%20-18.jpg](../boardwork/board%20work%20-18.jpg)"
   ]
  },
  {
   "cell_type": "code",
   "execution_count": null,
   "metadata": {},
   "outputs": [],
   "source": []
  }
 ],
 "metadata": {
  "kernelspec": {
   "display_name": "Python 3",
   "language": "python",
   "name": "python3"
  },
  "language_info": {
   "codemirror_mode": {
    "name": "ipython",
    "version": 3
   },
   "file_extension": ".py",
   "mimetype": "text/x-python",
   "name": "python",
   "nbconvert_exporter": "python",
   "pygments_lexer": "ipython3",
   "version": "3.9.4"
  }
 },
 "nbformat": 4,
 "nbformat_minor": 2
}
