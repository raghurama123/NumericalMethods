{
 "cells": [
  {
   "cell_type": "markdown",
   "id": "17c4257f",
   "metadata": {},
   "source": [
    "# Content:\n",
    "1. [Riemann approximation](#riemann)\n",
    "2. [Newton-Cotes formulae](#newton)\n",
    "3. [Trapezoidal rule](#trap)\n",
    "4. [Simpson's 1/3 rule](#simp13)"
   ]
  },
  {
   "cell_type": "markdown",
   "id": "09cf6d25",
   "metadata": {},
   "source": [
    "## 1. <a name=\"riemann\">Riemann approximation</a>"
   ]
  },
  {
   "cell_type": "markdown",
   "id": "74390c85",
   "metadata": {},
   "source": [
    "![../boardwork2022-120.jpg](../boardwork/boardwork2022-120.jpg)\n",
    "![../boardwork2022-121.jpg](../boardwork/boardwork2022-121.jpg)\n",
    "![../boardwork2022-122.jpg](../boardwork/boardwork2022-122.jpg)"
   ]
  },
  {
   "cell_type": "markdown",
   "id": "d225d535",
   "metadata": {},
   "source": [
    "Let's test the approximation for $\\int_0^\\pi dx\\,\\sin(x)=\\left[ -\\cos(x)\\right]^\\pi_0=2$"
   ]
  },
  {
   "cell_type": "code",
   "execution_count": 17,
   "id": "0851cad9",
   "metadata": {},
   "outputs": [
    {
     "name": "stdout",
     "output_type": "stream",
     "text": [
      "We are taking  100  grids between  0  and  3.141592653589793\n",
      "Step size, h =  0.031415926535897934\n",
      "Integral using left-Riemann approximation is  1.9798338422550528\n",
      "Integral using right-Riemann approximation is  1.9798338422550528\n",
      "Integral using mid-point-Riemann approximation is  1.9800830799182418\n"
     ]
    }
   ],
   "source": [
    "import numpy as np\n",
    "\n",
    "a = 0\n",
    "b = np.pi\n",
    "\n",
    "# Let's decide the step size using number of grids we want to use\n",
    "n=100\n",
    "h = (b - a)/n\n",
    "\n",
    "print('We are taking ',n,' grids between ',a,' and ',b)\n",
    "print('Step size, h = ',h)\n",
    "\n",
    "# Function we want to integrate\n",
    "def f(x):\n",
    "    val = np.sin(x)\n",
    "    return val\n",
    "\n",
    "# Discretize x\n",
    "x = np.linspace(a, b, n)\n",
    "\n",
    "# Left Riemann\n",
    "I_L = 0\n",
    "for k in range(0,n-1):\n",
    "    I_L = I_L + h * f(x[k])\n",
    "    \n",
    "# Right Riemann\n",
    "I_R = 0\n",
    "for k in range(1,n):\n",
    "    I_R = I_R + h * f(x[k])\n",
    "    \n",
    "# Mid-point Riemann\n",
    "I_mid = 0\n",
    "for k in range(0,n-1):\n",
    "    y_k=(x[k]+x[k+1])/2\n",
    "    I_mid = I_mid + h * f(y_k)\n",
    "\n",
    "print('Integral using left-Riemann approximation is ', I_L)\n",
    "print('Integral using right-Riemann approximation is ', I_R)\n",
    "print('Integral using mid-point-Riemann approximation is ', I_mid)"
   ]
  },
  {
   "cell_type": "markdown",
   "id": "7fe41b74",
   "metadata": {},
   "source": [
    "Let's see how the error decreases with step size"
   ]
  },
  {
   "cell_type": "code",
   "execution_count": 2,
   "id": "002d7d89",
   "metadata": {},
   "outputs": [],
   "source": [
    "def Integrate_LRiemenn(f,a,b,n):\n",
    "    h=(b-a)/n\n",
    "    x = np.linspace(a, b, n)\n",
    "    I_L = 0\n",
    "    for k in range(0,n-1):\n",
    "        I_L = I_L + h * f(x[k])\n",
    "    return I_L\n",
    "\n",
    "def Integrate_midRiemenn(f,a,b,n):\n",
    "    h=(b-a)/n\n",
    "    x = np.linspace(a, b, n)\n",
    "    I_mid = 0\n",
    "    for k in range(0,n-1):\n",
    "        y_k=(x[k]+x[k+1])/2\n",
    "        I_mid = I_mid + h * f(y_k)\n",
    "    return I_mid"
   ]
  },
  {
   "cell_type": "code",
   "execution_count": 3,
   "id": "6e9afb91",
   "metadata": {},
   "outputs": [],
   "source": [
    "def f(x):\n",
    "    val = np.sin(x)\n",
    "    return val"
   ]
  },
  {
   "cell_type": "code",
   "execution_count": 4,
   "id": "7d1f9ed0",
   "metadata": {},
   "outputs": [],
   "source": [
    "n_steps=[2**10,2**9,2**8,2**7,2**6,2**5,2**4,2**3,2**2,2]\n",
    "a=0\n",
    "b=np.pi"
   ]
  },
  {
   "cell_type": "code",
   "execution_count": 5,
   "id": "5eaa4085",
   "metadata": {},
   "outputs": [
    {
     "name": "stdout",
     "output_type": "stream",
     "text": [
      "Integral using left-Riemann approximation for h= 0.0030679615757712823  is  1.9980453047349203\n",
      "Integral using left-Riemann approximation for h= 0.006135923151542565  is  1.9960874627908571\n",
      "Integral using left-Riemann approximation for h= 0.01227184630308513  is  1.9921623018041035\n",
      "Integral using left-Riemann approximation for h= 0.02454369260617026  is  1.984273809618408\n",
      "Integral using left-Riemann approximation for h= 0.04908738521234052  is  1.968342013332234\n",
      "Integral using left-Riemann approximation for h= 0.09817477042468103  is  1.9358415164340417\n",
      "Integral using left-Riemann approximation for h= 0.19634954084936207  is  1.868141092060096\n",
      "Integral using left-Riemann approximation for h= 0.39269908169872414  is  1.7205270939201556\n",
      "Integral using left-Riemann approximation for h= 0.7853981633974483  is  1.3603495231756635\n",
      "Integral using left-Riemann approximation for h= 1.5707963267948966  is  0.0\n"
     ]
    }
   ],
   "source": [
    "steps=[]\n",
    "error_I_L=[]\n",
    "for n in n_steps:\n",
    "    h=(b-a)/n\n",
    "    steps.append(h)\n",
    "    I= Integrate_LRiemenn(f,a,b,n) \n",
    "    error_I_L.append(np.abs(I-2))\n",
    "    print('Integral using left-Riemann approximation for h=', h,' is ',I)"
   ]
  },
  {
   "cell_type": "code",
   "execution_count": 6,
   "id": "8dfc7ae6",
   "metadata": {},
   "outputs": [
    {
     "name": "stdout",
     "output_type": "stream",
     "text": [
      "Integral using mid-point-Riemann approximation  for h= 0.0030679615757712823  is  1.9980476601326316\n",
      "Integral using mid-point-Riemann approximation  for h= 0.006135923151542565  is  1.9960968936060606\n",
      "Integral using mid-point-Riemann approximation  for h= 0.01227184630308513  is  1.9922000991218507\n",
      "Integral using mid-point-Riemann approximation  for h= 0.02454369260617026  is  1.984425595577799\n",
      "Integral using mid-point-Riemann approximation  for h= 0.04908738521234052  is  1.968953999674898\n",
      "Integral using mid-point-Riemann approximation  for h= 0.09817477042468103  is  1.9383293482526616\n",
      "Integral using mid-point-Riemann approximation  for h= 0.19634954084936207  is  1.8784313354592557\n",
      "Integral using mid-point-Riemann approximation  for h= 0.39269908169872414  is  1.7647736539512249\n",
      "Integral using mid-point-Riemann approximation  for h= 0.7853981633974483  is  1.5707963267948968\n",
      "Integral using mid-point-Riemann approximation  for h= 1.5707963267948966  is  1.5707963267948966\n"
     ]
    }
   ],
   "source": [
    "error_I_mid=[]\n",
    "for n in n_steps:\n",
    "    h=(b-a)/n\n",
    "    I= Integrate_midRiemenn(f,a,b,n) \n",
    "    error_I_mid.append(np.abs(I-2))\n",
    "    print('Integral using mid-point-Riemann approximation  for h=', h,' is ',I)"
   ]
  },
  {
   "cell_type": "code",
   "execution_count": 7,
   "id": "a7074b31",
   "metadata": {},
   "outputs": [
    {
     "data": {
      "image/png": "[encoded data removed]",
      "text/plain": [
       "<Figure size 432x288 with 1 Axes>"
      ]
     },
     "metadata": {
      "needs_background": "light"
     },
     "output_type": "display_data"
    }
   ],
   "source": [
    "import matplotlib.pyplot as plt\n",
    "\n",
    "fig, ax = plt.subplots(nrows=1, ncols=1)\n",
    "\n",
    "ax.tick_params(direction=\"in\",which='both')\n",
    "ax.set_xlim([0,2])\n",
    "ax.set_ylim([0,3])\n",
    "\n",
    "x=np.linspace(0,np.pi)\n",
    "ax.plot(error_I_L, steps,label='left Riemann',color='red',zorder=3,linewidth=1.0,marker='o',linestyle='-',alpha=0.3)\n",
    "ax.plot(error_I_mid, steps,label='mid-point Riemann',color='blue',zorder=3,linewidth=1.0,marker='o',linestyle='-',alpha=0.3)\n",
    "ax.plot(x,x,color='red',linestyle='-')\n",
    "ax.plot(x,x**2,color='blue',linestyle='-')\n",
    "ax.legend(frameon=True, loc='upper left',ncol=1,fontsize=14)\n",
    "\n",
    "plt.xlabel('approximation error', fontsize = 14)\n",
    "plt.ylabel('step size, $h$', fontsize = 14)\n",
    "pass"
   ]
  },
  {
   "cell_type": "markdown",
   "id": "82eab50b",
   "metadata": {},
   "source": [
    "Let's try another example"
   ]
  },
  {
   "cell_type": "markdown",
   "id": "63e0afa7",
   "metadata": {},
   "source": [
    "## 2. <a name=\"newton\">Newton-Cotes formulae</a>"
   ]
  },
  {
   "cell_type": "markdown",
   "id": "c680c13f",
   "metadata": {},
   "source": [
    "![../boardwork2022-123.jpg](../boardwork/boardwork2022-123.jpg)"
   ]
  },
  {
   "cell_type": "markdown",
   "id": "e4c541cf",
   "metadata": {},
   "source": [
    "## 3. <a name=\"trap\">Trapezoidal rule</a>"
   ]
  },
  {
   "cell_type": "markdown",
   "id": "25d8156d",
   "metadata": {},
   "source": [
    "![../boardwork2022-124.jpg](../boardwork/boardwork2022-124.jpg)\n",
    "![../boardwork2022-125.jpg](../boardwork/boardwork2022-125.jpg)"
   ]
  },
  {
   "cell_type": "code",
   "execution_count": 20,
   "id": "39fc215e",
   "metadata": {},
   "outputs": [],
   "source": [
    "def f(x):\n",
    "    val = np.sin(x)\n",
    "    return val\n",
    "\n",
    "a=0\n",
    "b=np.pi\n",
    "\n",
    "n=1024\n",
    "x = np.linspace(a, b, n)"
   ]
  },
  {
   "cell_type": "code",
   "execution_count": 21,
   "id": "b82961a3",
   "metadata": {},
   "outputs": [
    {
     "name": "stdout",
     "output_type": "stream",
     "text": [
      "Integral using scipy's trapezoidal rule is  1.9999984281999588\n"
     ]
    }
   ],
   "source": [
    "import scipy.integrate\n",
    "\n",
    "I=scipy.integrate.trapezoid(f(x),x)\n",
    "print('Integral using scipy\\'s trapezoidal rule is ',I)"
   ]
  },
  {
   "cell_type": "markdown",
   "id": "c7f3f7c0",
   "metadata": {},
   "source": [
    "## 4. <a name=\"simp13\">Simpson's 1/3 rule</a>"
   ]
  },
  {
   "cell_type": "markdown",
   "id": "8d5e1454",
   "metadata": {},
   "source": [
    "![../boardwork2022-126.jpg](../boardwork/boardwork2022-126.jpg)"
   ]
  },
  {
   "cell_type": "code",
   "execution_count": 10,
   "id": "6863b024",
   "metadata": {},
   "outputs": [
    {
     "name": "stdout",
     "output_type": "stream",
     "text": [
      "Integral using scipy's trapezoidal rule is  2.000000010824504\n"
     ]
    }
   ],
   "source": [
    "I=scipy.integrate.simpson(f(x),x)\n",
    "print('Integral using scipy\\'s trapezoidal rule is ',I)"
   ]
  }
 ],
 "metadata": {
  "kernelspec": {
   "display_name": "Python 3",
   "language": "python",
   "name": "python3"
  },
  "language_info": {
   "codemirror_mode": {
    "name": "ipython",
    "version": 3
   },
   "file_extension": ".py",
   "mimetype": "text/x-python",
   "name": "python",
   "nbconvert_exporter": "python",
   "pygments_lexer": "ipython3",
   "version": "3.9.4"
  }
 },
 "nbformat": 4,
 "nbformat_minor": 5
}
