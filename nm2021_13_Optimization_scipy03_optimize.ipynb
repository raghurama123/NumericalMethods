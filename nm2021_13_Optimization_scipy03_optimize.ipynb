{
 "cells": [
  {
   "cell_type": "markdown",
   "id": "879fd05e",
   "metadata": {},
   "source": [
    "## Content:\n",
    "1. [Multiple roots](#1.-Multiple-roots)\n",
    "2. [Optimization as a root-finding problem](#2.-Optimization-as-a-root-finding-problem)\n",
    "3. [Test functions for optimization](#3.-Test-functions-for-optimization)"
   ]
  },
  {
   "cell_type": "markdown",
   "id": "681455d4",
   "metadata": {},
   "source": [
    "## 1. Multiple roots "
   ]
  },
  {
   "cell_type": "markdown",
   "id": "fd446445",
   "metadata": {},
   "source": [
    "![board%20work%20-64.jpg](boardwork/board%20work%20-64.jpg)\n",
    "![board%20work%20-65.jpg](boardwork/board%20work%20-65.jpg)"
   ]
  },
  {
   "cell_type": "markdown",
   "id": "8bf8cace",
   "metadata": {},
   "source": [
    "## 2. Optimization as a root-finding problem"
   ]
  },
  {
   "cell_type": "markdown",
   "id": "3056b5e2",
   "metadata": {},
   "source": [
    "![board%20work%20-66.jpg](boardwork/board%20work%20-66.jpg)\n",
    "![board%20work%20-67.jpg](boardwork/board%20work%20-67.jpg)"
   ]
  },
  {
   "cell_type": "markdown",
   "id": "569a8671",
   "metadata": {},
   "source": [
    "## 3. Test functions for optimization"
   ]
  },
  {
   "cell_type": "markdown",
   "id": "ef872e8b",
   "metadata": {},
   "source": [
    "Wikipedia has a page listing out the test functions used for benchmarking the performance of optimization modules. \n",
    "\n",
    "See [https://en.wikipedia.org/wiki/Test_functions_for_optimization](https://en.wikipedia.org/wiki/Test_functions_for_optimization)"
   ]
  },
  {
   "cell_type": "markdown",
   "id": "e26256a6",
   "metadata": {},
   "source": [
    "### 3.1 Rosenbrock's banana function.\n",
    "\n",
    "The [Rosenbrock's function](https://en.wikipedia.org/wiki/Rosenbrock_function) has a global minimum inside a long, narrow, parabolic shaped flat valley. To find the valley is trivial. To converge to the global minimum, however, is difficult."
   ]
  },
  {
   "cell_type": "code",
   "execution_count": 2,
   "id": "6283478a",
   "metadata": {},
   "outputs": [],
   "source": [
    "import numpy as np\n",
    "\n",
    "# 2D Rosenbrock\n",
    "def rosenbrock2D(x,y):\n",
    "    \n",
    "    a = 1\n",
    "    b = 100\n",
    "    \n",
    "    val = (a-x)**2  + b * (y-x**2.0)**2\n",
    "    \n",
    "    return val"
   ]
  },
  {
   "cell_type": "code",
   "execution_count": 7,
   "id": "0d25285e",
   "metadata": {},
   "outputs": [
    {
     "name": "stdout",
     "output_type": "stream",
     "text": [
      "0.0\n"
     ]
    }
   ],
   "source": [
    "x=1; y = 1\n",
    "print(rosenbrock2D(x,y))"
   ]
  },
  {
   "cell_type": "code",
   "execution_count": 3,
   "id": "6f285d97",
   "metadata": {},
   "outputs": [],
   "source": [
    "# 2D Rosenbrock, another way x,y <=> x1,x2\n",
    "def rosenbrock2D(x1,x2):\n",
    "    \n",
    "    a = 1\n",
    "    b = 100\n",
    "    \n",
    "    val = (a-x1)**2  + b * (x2-x1**2.0)**2 \n",
    "    \n",
    "    return val"
   ]
  },
  {
   "cell_type": "code",
   "execution_count": 4,
   "id": "2c2b76a0",
   "metadata": {},
   "outputs": [],
   "source": [
    "# 3D Rosenbrock\n",
    "def rosenbrock3D(x1,x2,x3):\n",
    "    \n",
    "    a = 1\n",
    "    b = 100\n",
    "    \n",
    "    val = (a-x1)**2  + b * (x2-x1**2.0)**2 + \\\n",
    "          (a-x2)**2  + b * (x3-x2**2.0)**2 \n",
    "    \n",
    "    return val"
   ]
  },
  {
   "cell_type": "code",
   "execution_count": 5,
   "id": "3480bf26",
   "metadata": {},
   "outputs": [
    {
     "name": "stdout",
     "output_type": "stream",
     "text": [
      "0.0\n"
     ]
    }
   ],
   "source": [
    "x1=1; x2=1; x3=1\n",
    "print(rosenbrock3D(x1,x2,x3))"
   ]
  },
  {
   "cell_type": "code",
   "execution_count": 9,
   "id": "d90fec71",
   "metadata": {},
   "outputs": [],
   "source": [
    "# nD Rosenbrock\n",
    "def rosenbrocknD(x):\n",
    "    \n",
    "    a = 1\n",
    "    b = 100\n",
    "    \n",
    "    N=len(x)\n",
    "    \n",
    "    val=0\n",
    "    for i in range(N-1):\n",
    "        val=val+(a-x[i])**2  + b * (x[i+1]-x[i]**2.0)**2\n",
    "    \n",
    "    return val"
   ]
  },
  {
   "cell_type": "code",
   "execution_count": 11,
   "id": "4036a9f1",
   "metadata": {},
   "outputs": [
    {
     "name": "stdout",
     "output_type": "stream",
     "text": [
      "0.0\n"
     ]
    }
   ],
   "source": [
    "x=[1,1,1.00]\n",
    "print(rosenbrocknD(x))"
   ]
  },
  {
   "cell_type": "code",
   "execution_count": 8,
   "id": "10326b16",
   "metadata": {},
   "outputs": [
    {
     "name": "stdout",
     "output_type": "stream",
     "text": [
      "0.0\n"
     ]
    }
   ],
   "source": [
    "x=[1,1,1,1,1,1]\n",
    "print(rosenbrocknD(x))"
   ]
  },
  {
   "cell_type": "markdown",
   "id": "2640c6b2",
   "metadata": {},
   "source": [
    "#### Let's try the [L-BFGS-B method from scipy](https://docs.scipy.org/doc/scipy/reference/optimize.minimize-lbfgsb.html) which is a modification of Broyden's method"
   ]
  },
  {
   "cell_type": "markdown",
   "id": "e5a4fdbf",
   "metadata": {},
   "source": [
    "##### 2D problem"
   ]
  },
  {
   "cell_type": "code",
   "execution_count": 9,
   "id": "ca9b05d3",
   "metadata": {},
   "outputs": [
    {
     "name": "stdout",
     "output_type": "stream",
     "text": [
      "      fun: 9.138630509774964e-12\n",
      " hess_inv: <2x2 LbfgsInvHessProduct with dtype=float64>\n",
      "      jac: array([ 2.76942051e-06, -1.40036297e-06])\n",
      "  message: 'CONVERGENCE: NORM_OF_PROJECTED_GRADIENT_<=_PGTOL'\n",
      "     nfev: 78\n",
      "      nit: 21\n",
      "     njev: 26\n",
      "   status: 0\n",
      "  success: True\n",
      "        x: array([0.99999698, 0.99999395])\n"
     ]
    }
   ],
   "source": [
    "from scipy import optimize\n",
    "\n",
    "x=[0,0]\n",
    "\n",
    "out=optimize.minimize(rosenbrocknD,x,method='L-BFGS-B')\n",
    "print(out)"
   ]
  },
  {
   "cell_type": "code",
   "execution_count": 10,
   "id": "15ddd92c",
   "metadata": {},
   "outputs": [
    {
     "name": "stdout",
     "output_type": "stream",
     "text": [
      "The optimal value of x is: [0.99999698 0.99999395]\n"
     ]
    }
   ],
   "source": [
    "print('The optimal value of x is:', out.x)"
   ]
  },
  {
   "cell_type": "code",
   "execution_count": 11,
   "id": "5a29115c",
   "metadata": {},
   "outputs": [
    {
     "name": "stdout",
     "output_type": "stream",
     "text": [
      "The function value at x_opt is: 9.138630509774964e-12\n"
     ]
    }
   ],
   "source": [
    "print('The function value at x_opt is:',out.fun)"
   ]
  },
  {
   "cell_type": "markdown",
   "id": "ed0c7c28",
   "metadata": {},
   "source": [
    "#### Let's try to tighten up the convergence thresholds. See the [manual](https://docs.scipy.org/doc/scipy/reference/optimize.minimize-lbfgsb.html) for the default thresholds."
   ]
  },
  {
   "cell_type": "code",
   "execution_count": 12,
   "id": "512f70ad",
   "metadata": {},
   "outputs": [
    {
     "data": {
      "text/plain": [
       "      fun: 9.03187263140095e-12\n",
       " hess_inv: <2x2 LbfgsInvHessProduct with dtype=float64>\n",
       "      jac: array([ 4.30992021e-09, -2.05967465e-09])\n",
       "  message: 'ABNORMAL_TERMINATION_IN_LNSRCH'\n",
       "     nfev: 156\n",
       "      nit: 22\n",
       "     njev: 52\n",
       "   status: 2\n",
       "  success: False\n",
       "        x: array([0.999997  , 0.99999399])"
      ]
     },
     "execution_count": 12,
     "metadata": {},
     "output_type": "execute_result"
    }
   ],
   "source": [
    "x=[0,0]\n",
    "convergence_options={'ftol': 1e-15, \\\n",
    "                             'gtol': 1e-12, \\\n",
    "                             'maxfun': 15000, \\\n",
    "                             'maxiter': 15000}\n",
    "optimize.minimize(rosenbrocknD,x,method='L-BFGS-B',options=convergence_options)"
   ]
  },
  {
   "cell_type": "markdown",
   "id": "71245243",
   "metadata": {},
   "source": [
    "## Additional notes "
   ]
  },
  {
   "cell_type": "markdown",
   "id": "52d60d8a",
   "metadata": {},
   "source": [
    "![board%20work%20-68.jpg](boardwork/board%20work%20-68.jpg)\n",
    "![board%20work%20-69.jpg](boardwork/board%20work%20-69.jpg)\n",
    "![board%20work%20-70.jpg](boardwork/board%20work%20-70.jpg)"
   ]
  },
  {
   "cell_type": "code",
   "execution_count": null,
   "id": "2a2a6fa2",
   "metadata": {},
   "outputs": [],
   "source": []
  }
 ],
 "metadata": {
  "kernelspec": {
   "display_name": "Python 3",
   "language": "python",
   "name": "python3"
  },
  "language_info": {
   "codemirror_mode": {
    "name": "ipython",
    "version": 3
   },
   "file_extension": ".py",
   "mimetype": "text/x-python",
   "name": "python",
   "nbconvert_exporter": "python",
   "pygments_lexer": "ipython3",
   "version": "3.9.4"
  }
 },
 "nbformat": 4,
 "nbformat_minor": 5
}
