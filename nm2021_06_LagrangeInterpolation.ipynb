{
 "cells": [
  {
   "cell_type": "markdown",
   "metadata": {},
   "source": [
    "# Content:\n",
    "1. [Lagrange interpolating polynomial](#1.-Lagrange-interpolating-polynomial)\n",
    "2. [Runge's curse and overfitting](#2.-Runge's-curse-and-overfitting)"
   ]
  },
  {
   "cell_type": "markdown",
   "metadata": {},
   "source": [
    "## 1. Lagrange interpolating polynomial "
   ]
  },
  {
   "cell_type": "markdown",
   "metadata": {},
   "source": [
    "![board%20work%20-28.jpg](boardwork/board%20work%20-28.jpg)\n",
    "![board%20work%20-29.jpg](boardwork/board%20work%20-29.jpg)"
   ]
  },
  {
   "cell_type": "markdown",
   "metadata": {},
   "source": [
    "Let's code it up!"
   ]
  },
  {
   "cell_type": "code",
   "execution_count": 37,
   "metadata": {},
   "outputs": [
    {
     "name": "stdout",
     "output_type": "stream",
     "text": [
      "-2.0 -2.0\n",
      "-1.5 -1.5\n",
      "-1.0 -1.0\n",
      "-0.5 -0.5\n",
      "0.0 0.0\n",
      "0.5 0.5\n",
      "1.0 1.0\n",
      "1.5 1.5\n",
      "2.0 2.0\n"
     ]
    }
   ],
   "source": [
    "import numpy as np\n",
    "def L_Dk(k,x_data,x):\n",
    "    D=len(x_data)\n",
    "    val=1.0\n",
    "    for i in range(0,D):\n",
    "        if i != k:\n",
    "            val=val*(x-x_data[i])/(x_data[k]-x_data[i])  #NOTE: product\n",
    "    return(val)\n",
    "    \n",
    "def Lagrange_poly(x_data,y_data,x):\n",
    "    D=len(x_data)\n",
    "    val=0\n",
    "    for k in range(0,D):\n",
    "        val=val+y_data[k]*L_Dk(k,x_data,x) #NOTE: sum\n",
    "    return(val)\n",
    "\n",
    "#=== Let's try a simple example of a line passing through (0,0) and (1,1)\n",
    "x_data=np.array([0,1])\n",
    "y_data=np.array([0,1])\n",
    "\n",
    "#=== make 'x' continuous using grids\n",
    "x_i=-2.0\n",
    "x_f=2.0\n",
    "dx=0.5\n",
    "x=np.arange(x_i, x_f+dx, dx, float)\n",
    "\n",
    "N_grids=len(x)\n",
    "\n",
    "for i_grids in range(N_grids):\n",
    "    print(x[i_grids],Lagrange_poly(x_data,y_data,x[i_grids]))"
   ]
  },
  {
   "cell_type": "markdown",
   "metadata": {},
   "source": [
    "## 2. Runge's curse and overfitting"
   ]
  },
  {
   "cell_type": "markdown",
   "metadata": {},
   "source": [
    "[Runge's phenomenon](https://en.wikipedia.org/wiki/Runge%27s_phenomenon) corresponds to the oscillation of a polynomials of high degree obtained using polynomial interpolation. The data used in the previous lecture 'data/fit_01.csv' shows how this works!"
   ]
  },
  {
   "cell_type": "code",
   "execution_count": 35,
   "metadata": {
    "collapsed": true
   },
   "outputs": [],
   "source": [
    "import numpy as np\n",
    "\n",
    "#=== Read the data from a file\n",
    "myfile=open('data/fit_01.csv','r')\n",
    "\n",
    "x_data=np.array([])\n",
    "y_data=np.array([])\n",
    "\n",
    "iline=0\n",
    "for line in myfile:\n",
    "    if iline > 0:            # i == 0 corresponds to the heading\n",
    "        string=line.split(',')  # csv, comma separated values\n",
    "        valx=eval(string[0])\n",
    "        valy=eval(string[1])\n",
    "        x_data=np.append(x_data,[valx])\n",
    "        y_data=np.append(y_data,[valy])\n",
    "        \n",
    "    iline=iline+1\n",
    "myfile.close() "
   ]
  },
  {
   "cell_type": "code",
   "execution_count": 36,
   "metadata": {},
   "outputs": [
    {
     "data": {
      "image/png": "[encoded data removed]",
      "text/plain": [
       "<matplotlib.figure.Figure at 0x7fa03dbaee48>"
      ]
     },
     "metadata": {},
     "output_type": "display_data"
    }
   ],
   "source": [
    "import numpy as np\n",
    "import matplotlib.pyplot as plt\n",
    "\n",
    "plt.plot(x_data,y_data,'o',color='r',linewidth=1,label='y$^{exact}$')\n",
    "\n",
    "x_min=0.0\n",
    "x_max=7.0\n",
    "N_grids=51\n",
    "\n",
    "xgrids=np.linspace(x_min, x_max, N_grids)\n",
    "\n",
    "ygridsfit=np.zeros(N_grids)\n",
    "\n",
    "for i_grids in range(N_grids):\n",
    "    ygridsfit[i_grids]=Lagrange_poly(x_data,y_data,xgrids[i_grids])\n",
    "    #print(xgrids[i_grids],ygridsfit[i_grids])\n",
    "\n",
    "plt.plot(xgrids,ygridsfit,'-',color='b',linewidth=1,label='y$^{fitted}$')\n",
    "\n",
    "plt.legend()\n",
    "\n",
    "plt.xlabel(\"x\")\n",
    "plt.ylabel(\"y\")\n",
    "plt.title('Lagrange interpolation')\n",
    "\n",
    "#plt.savefig('poly_interpolation.png')  \n",
    "\n",
    "#=== display\n",
    "plt.show()"
   ]
  },
  {
   "cell_type": "markdown",
   "metadata": {},
   "source": [
    "Note that the polynomial seems to be smooth in the region [2,7] but for $x<2$ it oscillates. We say that the polynomial is [overfitted](https://en.wikipedia.org/wiki/Overfitting) in the region [2,7], hence on the left side the interpolated function's behavious is unpreditable."
   ]
  },
  {
   "cell_type": "code",
   "execution_count": null,
   "metadata": {
    "collapsed": true
   },
   "outputs": [],
   "source": []
  }
 ],
 "metadata": {
  "kernelspec": {
   "display_name": "Python 3",
   "language": "python",
   "name": "python3"
  },
  "language_info": {
   "codemirror_mode": {
    "name": "ipython",
    "version": 3
   },
   "file_extension": ".py",
   "mimetype": "text/x-python",
   "name": "python",
   "nbconvert_exporter": "python",
   "pygments_lexer": "ipython3",
   "version": "3.6.10"
  }
 },
 "nbformat": 4,
 "nbformat_minor": 2
}
