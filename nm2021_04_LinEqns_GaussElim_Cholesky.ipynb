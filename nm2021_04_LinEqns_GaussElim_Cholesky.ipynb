{
 "cells": [
  {
   "cell_type": "markdown",
   "metadata": {},
   "source": [
    "# Content:\n",
    "1. [Row-reduction/Elimination](#1.-Row-reduction/Elimination)\n",
    "2. [Elimination followed by substitution ](#2.-Elimination-followed-by-substitution)"
   ]
  },
  {
   "cell_type": "markdown",
   "metadata": {},
   "source": [
    "## 1. Row-reduction/Elimination"
   ]
  },
  {
   "attachments": {},
   "cell_type": "markdown",
   "metadata": {},
   "source": [
    "![board%20work%20-5.jpg](boardwork/board%20work%20-5.jpg)"
   ]
  },
  {
   "cell_type": "code",
   "execution_count": 44,
   "metadata": {},
   "outputs": [
    {
     "name": "stdout",
     "output_type": "stream",
     "text": [
      "The augmented matrix [A|b] is:\n",
      " [[ 2.  0. -1.  2.]\n",
      " [ 6.  5.  3.  7.]\n",
      " [ 2. -1.  0.  4.]]\n"
     ]
    }
   ],
   "source": [
    "import numpy as np\n",
    "\n",
    "A=np.array([[2,0,-1],[6,5,3],[2,-1,0]])\n",
    "b=np.array([2,7,4])\n",
    "\n",
    "#=== Augmented matrix\n",
    "A1=np.zeros([3,4])\n",
    "A1[0:3,0:3]=A.copy()\n",
    "A1[0:3,3]=b.copy()\n",
    "\n",
    "print('The augmented matrix [A|b] is:\\n',A1)"
   ]
  },
  {
   "cell_type": "markdown",
   "metadata": {},
   "source": [
    "Use the first row of A1 to eliminate the 'rest' of the first column of A1"
   ]
  },
  {
   "cell_type": "code",
   "execution_count": 45,
   "metadata": {},
   "outputs": [
    {
     "name": "stdout",
     "output_type": "stream",
     "text": [
      "After subtracting row-1 from row-2 and row-3:\n",
      " [[ 2.  0. -1.  2.]\n",
      " [ 0.  5.  6.  1.]\n",
      " [ 0. -1.  1.  2.]]\n"
     ]
    }
   ],
   "source": [
    "A1[1,:]=A1[1,:]-(A1[1,0]/A1[0,0])*A1[0,:]\n",
    "A1[2,:]=A1[2,:]-(A1[2,0]/A1[0,0])*A1[0,:]\n",
    "print('After subtracting row-1 from row-2 and row-3:\\n',A1)"
   ]
  },
  {
   "cell_type": "markdown",
   "metadata": {},
   "source": [
    "Use the second row of A1 to eliminate the 'rest' of the second column of A1"
   ]
  },
  {
   "cell_type": "code",
   "execution_count": 46,
   "metadata": {},
   "outputs": [
    {
     "name": "stdout",
     "output_type": "stream",
     "text": [
      "After subtracting row-2 from row-1 and row-3:\n",
      " [[ 2.   0.  -1.   2. ]\n",
      " [ 0.   5.   6.   1. ]\n",
      " [ 0.   0.   2.2  2.2]]\n"
     ]
    }
   ],
   "source": [
    "A1[0,:]=A1[0,:]-(A1[0,1]/A1[1,1])*A1[1,:]\n",
    "A1[2,:]=A1[2,:]-(A1[2,1]/A1[1,1])*A1[1,:]\n",
    "print('After subtracting row-2 from row-1 and row-3:\\n',A1)"
   ]
  },
  {
   "cell_type": "markdown",
   "metadata": {},
   "source": [
    "Use the third row of A1 to eliminate the 'rest' of the third column of A1"
   ]
  },
  {
   "cell_type": "code",
   "execution_count": 47,
   "metadata": {},
   "outputs": [
    {
     "name": "stdout",
     "output_type": "stream",
     "text": [
      "After subtracting row-3 from row-1 and row-2:\n",
      " [[ 2.   0.   0.   3. ]\n",
      " [ 0.   5.   0.  -5. ]\n",
      " [ 0.   0.   2.2  2.2]]\n"
     ]
    }
   ],
   "source": [
    "A1[0,:]=A1[0,:]-(A1[0,2]/A1[2,2])*A1[2,:]\n",
    "A1[1,:]=A1[1,:]-(A1[1,2]/A1[2,2])*A1[2,:]\n",
    "print('After subtracting row-3 from row-1 and row-2:\\n',A1)"
   ]
  },
  {
   "cell_type": "markdown",
   "metadata": {},
   "source": [
    "Now scale all the rows"
   ]
  },
  {
   "cell_type": "code",
   "execution_count": 48,
   "metadata": {},
   "outputs": [
    {
     "name": "stdout",
     "output_type": "stream",
     "text": [
      "...and finally, we have:\n",
      " [[ 1.   0.   0.   1.5]\n",
      " [ 0.   1.   0.  -1. ]\n",
      " [ 0.   0.   1.   1. ]]\n"
     ]
    }
   ],
   "source": [
    "A1[0,:]=A1[0,:]/A1[0,0]\n",
    "A1[1,:]=A1[1,:]/A1[1,1]\n",
    "A1[2,:]=A1[2,:]/A1[2,2]\n",
    "print('...and finally, we have:\\n',A1)"
   ]
  },
  {
   "cell_type": "code",
   "execution_count": 50,
   "metadata": {},
   "outputs": [
    {
     "name": "stdout",
     "output_type": "stream",
     "text": [
      "The augmented matrix [A|b] is:\n",
      " [[ 2.  0. -1.  2.]\n",
      " [ 6.  5.  3.  7.]\n",
      " [ 2. -1.  0.  4.]]\n",
      "The augmented matrix [A|b] after row-reduction is:\n",
      " [[ 2.   0.   0.   3. ]\n",
      " [ 0.   5.   0.  -5. ]\n",
      " [ 0.   0.   2.2  2.2]]\n",
      "The solutions is:\n",
      " [ 1.5 -1.   1. ]\n"
     ]
    }
   ],
   "source": [
    "import numpy as np\n",
    "\n",
    "A=np.array([[2,0,-1],[6,5,3],[2,-1,0]])\n",
    "b=np.array([2,7,4])\n",
    "\n",
    "#=== Augmented matrix\n",
    "A1=np.zeros([3,4])\n",
    "A1[0:3,0:3]=A.copy()\n",
    "A1[0:3,3]=b.copy()\n",
    "\n",
    "print('The augmented matrix [A|b] is:\\n',A1)\n",
    "\n",
    "for i in range(0,3):\n",
    "    for j in range(0,3):\n",
    "        if i != j:\n",
    "            A1[j,:]=A1[j,:]-(A1[j,i]/A1[i,i])*A1[i,:]\n",
    "\n",
    "print('The augmented matrix [A|b] after row-reduction is:\\n',A1)\n",
    "\n",
    "for i in range(0,3):\n",
    "    A1[i,:]=A1[i,:]/A1[i,i]\n",
    "\n",
    "x=np.zeros(3)\n",
    "x=A1[:,3]\n",
    "print('The solutions is:\\n',x)"
   ]
  },
  {
   "cell_type": "markdown",
   "metadata": {},
   "source": [
    "## 2. Elimination followed by substitution "
   ]
  },
  {
   "attachments": {},
   "cell_type": "markdown",
   "metadata": {},
   "source": [
    "![board%20work%20-6.jpg](boardwork/board%20work%20-6.jpg)"
   ]
  },
  {
   "cell_type": "code",
   "execution_count": 34,
   "metadata": {},
   "outputs": [
    {
     "name": "stdout",
     "output_type": "stream",
     "text": [
      "The augmented matrix [A|b] is:\n",
      " [[ 2.  1.  1.  1.]\n",
      " [ 1.  2.  1.  2.]\n",
      " [ 1.  1.  2.  3.]]\n"
     ]
    }
   ],
   "source": [
    "import numpy as np\n",
    "\n",
    "A=np.array([[2,1,1],[1,2,1],[1,1,2]])\n",
    "b=np.array([1,2,3])\n",
    "\n",
    "#=== Augmented matrix\n",
    "A1=np.zeros([3,4])\n",
    "A1[0:3,0:3]=A.copy()\n",
    "A1[0:3,3]=b.copy()\n",
    "\n",
    "print('The augmented matrix [A|b] is:\\n',A1)"
   ]
  },
  {
   "cell_type": "markdown",
   "metadata": {},
   "source": [
    "### Elimination: Transform A to U "
   ]
  },
  {
   "cell_type": "markdown",
   "metadata": {},
   "source": [
    "Use the first row of A1 to eliminate the 'rest' of the first column of A1"
   ]
  },
  {
   "cell_type": "code",
   "execution_count": 35,
   "metadata": {},
   "outputs": [
    {
     "name": "stdout",
     "output_type": "stream",
     "text": [
      "After subtracting row-1 from row-2 and row-3:\n",
      " [[ 2.   1.   1.   1. ]\n",
      " [ 0.   1.5  0.5  1.5]\n",
      " [ 0.   0.5  1.5  2.5]]\n"
     ]
    }
   ],
   "source": [
    "A1[1,:]=A1[1,:]-(A1[1,0]/A1[0,0])*A1[0,:]\n",
    "A1[2,:]=A1[2,:]-(A1[2,0]/A1[0,0])*A1[0,:]\n",
    "print('After subtracting row-1 from row-2 and row-3:\\n',A1)"
   ]
  },
  {
   "cell_type": "markdown",
   "metadata": {},
   "source": [
    "Use the second row of A1 to eliminate the 'rest' of the second column of A1"
   ]
  },
  {
   "cell_type": "code",
   "execution_count": 36,
   "metadata": {},
   "outputs": [
    {
     "name": "stdout",
     "output_type": "stream",
     "text": [
      "After subtracting row-2 from row-3:\n",
      " [[ 2.          1.          1.          1.        ]\n",
      " [ 0.          1.5         0.5         1.5       ]\n",
      " [ 0.          0.          1.33333333  2.        ]]\n"
     ]
    }
   ],
   "source": [
    "A1[2,:]=A1[2,:]-(A1[2,1]/A1[1,1])*A1[1,:]\n",
    "print('After subtracting row-2 from row-3:\\n',A1)"
   ]
  },
  {
   "cell_type": "markdown",
   "metadata": {},
   "source": [
    "### Backward substitution (bottom to top) "
   ]
  },
  {
   "cell_type": "code",
   "execution_count": 37,
   "metadata": {},
   "outputs": [
    {
     "name": "stdout",
     "output_type": "stream",
     "text": [
      "The U-form of matrix A is:\n",
      " [[ 2.          1.          1.        ]\n",
      " [ 0.          1.5         0.5       ]\n",
      " [ 0.          0.          1.33333333]]\n"
     ]
    }
   ],
   "source": [
    "U=np.zeros([3,3])\n",
    "U[0:3,0:3]=A1[0:3,0:3].copy()\n",
    "print('The U-form of matrix A is:\\n',U)"
   ]
  },
  {
   "cell_type": "code",
   "execution_count": 38,
   "metadata": {},
   "outputs": [
    {
     "name": "stdout",
     "output_type": "stream",
     "text": [
      "The modified coefficient vector is:\n",
      " [ 1.   1.5  2. ]\n"
     ]
    }
   ],
   "source": [
    "b=np.zeros([3])\n",
    "b[0:3]=A1[0:3,3].copy()\n",
    "print('The modified coefficient vector is:\\n',b)"
   ]
  },
  {
   "cell_type": "markdown",
   "metadata": {},
   "source": [
    "Now we have to solve the following equations.\n",
    "$$\n",
    "  2x+y+z=1 \\\\\n",
    "    1.5y+0.5z = 1.5 \\\\\n",
    "    1.33333333z=2\n",
    "$$"
   ]
  },
  {
   "cell_type": "markdown",
   "metadata": {},
   "source": [
    "Let's start by solving the last equation.\n",
    "$$\n",
    "1.33333333z=2 \\Rightarrow z = 2/1.33333333\n",
    "$$"
   ]
  },
  {
   "cell_type": "code",
   "execution_count": 39,
   "metadata": {},
   "outputs": [
    {
     "name": "stdout",
     "output_type": "stream",
     "text": [
      "[ 0.   0.   1.5]\n"
     ]
    }
   ],
   "source": [
    "x=np.zeros([3])\n",
    "x[2]=b[2]/U[2,2]\n",
    "print(x)"
   ]
  },
  {
   "cell_type": "markdown",
   "metadata": {},
   "source": [
    "Now let's  solve the second equation\n",
    "$$\n",
    "1.5y+0.5z = 1.5\n",
    "$$\n",
    "by substituting the value of z=1.5\n",
    "$$\n",
    "1.5y+0.5(1.5)=1.5\\\\\n",
    "\\rightarrow 1.5y+0.75 = 1.5 \\\\\n",
    "\\rightarrow 1.5y=0.75\\\\\n",
    "\\rightarrow y = 0.75/1.5 = 0.5\n",
    "$$"
   ]
  },
  {
   "cell_type": "code",
   "execution_count": 40,
   "metadata": {},
   "outputs": [
    {
     "name": "stdout",
     "output_type": "stream",
     "text": [
      "[ 0.   0.5  1.5]\n"
     ]
    }
   ],
   "source": [
    "x[1]=(b[1]-U[1,2]*x[2])/U[1,1]\n",
    "print(x)"
   ]
  },
  {
   "cell_type": "markdown",
   "metadata": {},
   "source": [
    "Now, the first equation\n",
    "$$\n",
    "  2x+y+z=1 \\\\\n",
    "\\rightarrow 2x+0.5+1.5=1\\\\\n",
    "\\rightarrow 2x=-1\\\\\n",
    "\\rightarrow x=-1/2\n",
    "$$"
   ]
  },
  {
   "cell_type": "code",
   "execution_count": 41,
   "metadata": {},
   "outputs": [
    {
     "name": "stdout",
     "output_type": "stream",
     "text": [
      "[-0.5  0.5  1.5]\n"
     ]
    }
   ],
   "source": [
    "x[0]=(b[0]-U[0,2]*x[1]-U[0,2]*x[2])/U[0,0]\n",
    "print(x)"
   ]
  }
 ],
 "metadata": {
  "kernelspec": {
   "display_name": "Python 3",
   "language": "python",
   "name": "python3"
  },
  "language_info": {
   "codemirror_mode": {
    "name": "ipython",
    "version": 3
   },
   "file_extension": ".py",
   "mimetype": "text/x-python",
   "name": "python",
   "nbconvert_exporter": "python",
   "pygments_lexer": "ipython3",
   "version": "3.6.10"
  }
 },
 "nbformat": 4,
 "nbformat_minor": 2
}
